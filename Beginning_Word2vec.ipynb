{
  "nbformat": 4,
  "nbformat_minor": 0,
  "metadata": {
    "colab": {
      "name": "Beginning_Word2vec.ipynb",
      "provenance": [],
      "collapsed_sections": []
    },
    "kernelspec": {
      "name": "python3",
      "display_name": "Python 3"
    }
  },
  "cells": [
    {
      "cell_type": "markdown",
      "metadata": {
        "id": "LoyVfistw1vY",
        "colab_type": "text"
      },
      "source": [
        "#Google Colaboratory で自然言語処理"
      ]
    },
    {
      "cell_type": "markdown",
      "metadata": {
        "id": "1T9hKk0cKc3N",
        "colab_type": "text"
      },
      "source": [
        "※Google Colaboratoryで実行されることを想定しています.<br>\n",
        "[Google Colaborator](https://colab.research.google.com/)"
      ]
    },
    {
      "cell_type": "markdown",
      "metadata": {
        "id": "wSgwG1Qb3riY",
        "colab_type": "text"
      },
      "source": [
        "## 内容\n",
        "Google Colaboratory環境で簡単な自然言語処理を扱う\n",
        "- MeCabを使用した形態素解析\n",
        "- MeCabで追加のシステム辞書を使う\n",
        "- Word2vecを動かす"
      ]
    },
    {
      "cell_type": "markdown",
      "metadata": {
        "id": "-cPcExmlZNOf",
        "colab_type": "text"
      },
      "source": [
        "## Google Colaboratory について\n",
        "Google Colaboratoryの[チュートリアル](https://colab.research.google.com/notebooks/welcome.ipynb?hl=ja)<br>\n",
        "クラウド上で動くJupyter notebook 環境です．<br>\n",
        "OSはUbuntuです．詳しい環境は下のセルを実行すると見えます．<br>\n",
        "コードのセルにはPythonコードを書くことができますが，行の頭に\"!\"もしくは，\"%%bash\"以下の行ではBashを書くこともできます．"
      ]
    },
    {
      "cell_type": "code",
      "metadata": {
        "id": "NlKKI-fKmxEq",
        "colab_type": "code",
        "colab": {
          "base_uri": "https://localhost:8080/",
          "height": 1000
        },
        "outputId": "7678f323-5435-474c-94cc-23c8c02d6be5"
      },
      "source": [
        "%%bash\n",
        "apt install screenfetch\n",
        "screenfetch"
      ],
      "execution_count": 13,
      "outputs": [
        {
          "output_type": "stream",
          "text": [
            "Reading package lists...\n",
            "Building dependency tree...\n",
            "Reading state information...\n",
            "The following package was automatically installed and is no longer required:\n",
            "  libnvidia-common-430\n",
            "Use 'apt autoremove' to remove it.\n",
            "The following additional packages will be installed:\n",
            "  bc giblib1 libid3tag0 libimlib2 scrot\n",
            "The following NEW packages will be installed:\n",
            "  bc giblib1 libid3tag0 libimlib2 screenfetch scrot\n",
            "0 upgraded, 6 newly installed, 0 to remove and 16 not upgraded.\n",
            "Need to get 375 kB of archives.\n",
            "After this operation, 1,280 kB of additional disk space will be used.\n",
            "Get:1 http://archive.ubuntu.com/ubuntu bionic/main amd64 bc amd64 1.07.1-2 [86.2 kB]\n",
            "Get:2 http://archive.ubuntu.com/ubuntu bionic/universe amd64 libid3tag0 amd64 0.15.1b-13 [31.2 kB]\n",
            "Get:3 http://archive.ubuntu.com/ubuntu bionic/universe amd64 libimlib2 amd64 1.4.10-1 [173 kB]\n",
            "Get:4 http://archive.ubuntu.com/ubuntu bionic/universe amd64 giblib1 amd64 1.2.4-11 [17.5 kB]\n",
            "Get:5 http://archive.ubuntu.com/ubuntu bionic/universe amd64 screenfetch all 3.8.0-8 [50.6 kB]\n",
            "Get:6 http://archive.ubuntu.com/ubuntu bionic/universe amd64 scrot amd64 0.8-18 [16.1 kB]\n",
            "Fetched 375 kB in 1s (567 kB/s)\n",
            "Selecting previously unselected package bc.\r\n",
            "(Reading database ... \r(Reading database ... 5%\r(Reading database ... 10%\r(Reading database ... 15%\r(Reading database ... 20%\r(Reading database ... 25%\r(Reading database ... 30%\r(Reading database ... 35%\r(Reading database ... 40%\r(Reading database ... 45%\r(Reading database ... 50%\r(Reading database ... 55%\r(Reading database ... 60%\r(Reading database ... 65%\r(Reading database ... 70%\r(Reading database ... 75%\r(Reading database ... 80%\r(Reading database ... 85%\r(Reading database ... 90%\r(Reading database ... 95%\r(Reading database ... 100%\r(Reading database ... 134695 files and directories currently installed.)\r\n",
            "Preparing to unpack .../0-bc_1.07.1-2_amd64.deb ...\r\n",
            "Unpacking bc (1.07.1-2) ...\r\n",
            "Selecting previously unselected package libid3tag0:amd64.\r\n",
            "Preparing to unpack .../1-libid3tag0_0.15.1b-13_amd64.deb ...\r\n",
            "Unpacking libid3tag0:amd64 (0.15.1b-13) ...\r\n",
            "Selecting previously unselected package libimlib2:amd64.\r\n",
            "Preparing to unpack .../2-libimlib2_1.4.10-1_amd64.deb ...\r\n",
            "Unpacking libimlib2:amd64 (1.4.10-1) ...\r\n",
            "Selecting previously unselected package giblib1:amd64.\r\n",
            "Preparing to unpack .../3-giblib1_1.2.4-11_amd64.deb ...\r\n",
            "Unpacking giblib1:amd64 (1.2.4-11) ...\r\n",
            "Selecting previously unselected package screenfetch.\r\n",
            "Preparing to unpack .../4-screenfetch_3.8.0-8_all.deb ...\r\n",
            "Unpacking screenfetch (3.8.0-8) ...\r\n",
            "Selecting previously unselected package scrot.\r\n",
            "Preparing to unpack .../5-scrot_0.8-18_amd64.deb ...\r\n",
            "Unpacking scrot (0.8-18) ...\r\n",
            "Setting up libid3tag0:amd64 (0.15.1b-13) ...\r\n",
            "Setting up libimlib2:amd64 (1.4.10-1) ...\r\n",
            "Setting up giblib1:amd64 (1.2.4-11) ...\r\n",
            "Setting up bc (1.07.1-2) ...\r\n",
            "Setting up scrot (0.8-18) ...\r\n",
            "Setting up screenfetch (3.8.0-8) ...\r\n",
            "Processing triggers for man-db (2.8.3-2ubuntu0.1) ...\r\n",
            "Processing triggers for libc-bin (2.27-3ubuntu1) ...\r\n",
            "/sbin/ldconfig.real: /usr/local/lib/python3.6/dist-packages/ideep4py/lib/libmkldnn.so.0 is not a symbolic link\r\n",
            "\r\n",
            "\u001b[0m\u001b[1;31m                          ./+o+-      \u001b[0m\u001b[1;31m root\u001b[0m\u001b[1m@\u001b[0m\u001b[0m\u001b[1;31m792553b8adff\u001b[0m\n",
            "\u001b[0m\u001b[1;37m                  yyyyy- \u001b[0m\u001b[1;31m-yyyyyy+     \u001b[0m\u001b[1;31m OS:\u001b[0m Ubuntu 18.04 bionic\u001b[0m\n",
            "\u001b[0m\u001b[1;37m               \u001b[0m\u001b[1;37m://+//////\u001b[0m\u001b[1;31m-yyyyyyo     \u001b[0m\u001b[1;31m Kernel:\u001b[0m x86_64 Linux 4.14.137+\u001b[0m\n",
            "\u001b[0m\u001b[1;33m           .++ \u001b[0m\u001b[1;37m.:/++++++/-\u001b[0m\u001b[1;31m.+sss/`     \u001b[0m\u001b[1;31m Uptime:\u001b[0m 8m\u001b[0m\n",
            "\u001b[0m\u001b[1;33m         .:++o:  \u001b[0m\u001b[1;37m/++++++++/:--:/-     \u001b[0m\u001b[1;31m Packages:\u001b[0m 1203\u001b[0m\n",
            "\u001b[0m\u001b[1;33m        o:+o+:++.\u001b[0m\u001b[1;37m`..```.-/oo+++++/    \u001b[0m\u001b[1;31m Shell:\u001b[0m bash 4.4.20\u001b[0m\n",
            "\u001b[0m\u001b[1;33m       .:+o:+o/.\u001b[0m\u001b[1;37m          `+sssoo+/   \u001b[0m\u001b[1;31m CPU:\u001b[0m Intel Xeon @ 2x 2.3GHz\u001b[0m\n",
            "\u001b[0m\u001b[1;37m  .++/+:\u001b[0m\u001b[1;33m+oo+o:`\u001b[0m\u001b[1;37m             /sssooo.  \u001b[0m\u001b[1;31m GPU:\u001b[0m \u001b[0m\n",
            "\u001b[0m\u001b[1;37m /+++//+:\u001b[0m\u001b[1;33m`oo+o\u001b[0m\u001b[1;37m               /::--:.  \u001b[0m\u001b[1;31m RAM:\u001b[0m 1781MiB / 13022MiB\u001b[0m\n",
            "\u001b[0m\u001b[1;37m \\+/+o+++\u001b[0m\u001b[1;33m`o++o\u001b[0m\u001b[1;31m               ++////.  \u001b[0m\n",
            "\u001b[0m\u001b[1;37m  .++.o+\u001b[0m\u001b[1;33m++oo+:`\u001b[0m\u001b[1;31m             /dddhhh.  \u001b[0m\n",
            "\u001b[0m\u001b[1;33m       .+.o+oo:.\u001b[0m\u001b[1;31m          `oddhhhh+   \u001b[0m\n",
            "\u001b[0m\u001b[1;33m        \\+.++o+o`\u001b[0m\u001b[1;31m`-````.:ohdhhhhh+    \u001b[0m\n",
            "\u001b[0m\u001b[1;33m         `:o+++ \u001b[0m\u001b[1;31m`ohhhhhhhhyo++os:     \u001b[0m\n",
            "\u001b[0m\u001b[1;33m           .o:\u001b[0m\u001b[1;31m`.syhhhhhhh/\u001b[0m\u001b[1;33m.oo++o`     \u001b[0m\n",
            "\u001b[0m\u001b[1;31m               /osyyyyyyo\u001b[0m\u001b[1;33m++ooo+++/    \u001b[0m\n",
            "\u001b[0m\u001b[1;31m                   ````` \u001b[0m\u001b[1;33m+oo+++o\\:    \u001b[0m\n",
            "\u001b[0m\u001b[1;33m                          `oo++.      \u001b[0m\n"
          ],
          "name": "stdout"
        },
        {
          "output_type": "stream",
          "text": [
            "\n",
            "WARNING: apt does not have a stable CLI interface. Use with caution in scripts.\n",
            "\n",
            "awk: cannot open /proc/fb (No such file or directory)\n"
          ],
          "name": "stderr"
        }
      ]
    },
    {
      "cell_type": "markdown",
      "metadata": {
        "id": "Li-wzMm-7yLh",
        "colab_type": "text"
      },
      "source": [
        "## 自然言語処理を行うにあたっての環境構築"
      ]
    },
    {
      "cell_type": "markdown",
      "metadata": {
        "id": "uHxHUzntoy9g",
        "colab_type": "text"
      },
      "source": [
        " ### MeCabの導入\n",
        " [MeCab](https://taku910.github.io/mecab/) \\[1]<br>\n",
        " MeCabは形態素解析器です．<br>\n",
        " 形態素解析では，自然言語の文を形態素（ほとんど単語だけど単語より小さい単位）に分割したり，それぞれの形態素の品詞を特定したりします．"
      ]
    },
    {
      "cell_type": "code",
      "metadata": {
        "id": "DThCFwWOmxk8",
        "colab_type": "code",
        "outputId": "db6698bb-1fd7-47f8-e374-2336d7ffd22a",
        "colab": {
          "base_uri": "https://localhost:8080/",
          "height": 1000
        }
      },
      "source": [
        "%%bash\n",
        "apt install mecab libmecab-dev mecab-ipadic-utf8\n",
        "#下はPython上でMeCabを動かすライブラリ\n",
        "pip install mecab-python3"
      ],
      "execution_count": 1,
      "outputs": [
        {
          "output_type": "stream",
          "text": [
            "Reading package lists...\n",
            "Building dependency tree...\n",
            "Reading state information...\n",
            "The following package was automatically installed and is no longer required:\n",
            "  libnvidia-common-430\n",
            "Use 'apt autoremove' to remove it.\n",
            "The following additional packages will be installed:\n",
            "  libmecab2 mecab-ipadic mecab-jumandic mecab-jumandic-utf8 mecab-utils\n",
            "The following NEW packages will be installed:\n",
            "  libmecab-dev libmecab2 mecab mecab-ipadic mecab-ipadic-utf8 mecab-jumandic\n",
            "  mecab-jumandic-utf8 mecab-utils\n",
            "0 upgraded, 8 newly installed, 0 to remove and 16 not upgraded.\n",
            "Need to get 29.0 MB of archives.\n",
            "After this operation, 277 MB of additional disk space will be used.\n",
            "Get:1 http://archive.ubuntu.com/ubuntu bionic/universe amd64 libmecab2 amd64 0.996-5 [257 kB]\n",
            "Get:2 http://archive.ubuntu.com/ubuntu bionic/universe amd64 libmecab-dev amd64 0.996-5 [308 kB]\n",
            "Get:3 http://archive.ubuntu.com/ubuntu bionic/universe amd64 mecab-utils amd64 0.996-5 [4,856 B]\n",
            "Get:4 http://archive.ubuntu.com/ubuntu bionic/universe amd64 mecab-jumandic-utf8 all 7.0-20130310-4 [16.2 MB]\n",
            "Get:5 http://archive.ubuntu.com/ubuntu bionic/universe amd64 mecab-jumandic all 7.0-20130310-4 [2,212 B]\n",
            "Get:6 http://archive.ubuntu.com/ubuntu bionic/universe amd64 mecab-ipadic all 2.7.0-20070801+main-1 [12.1 MB]\n",
            "Get:7 http://archive.ubuntu.com/ubuntu bionic/universe amd64 mecab amd64 0.996-5 [132 kB]\n",
            "Get:8 http://archive.ubuntu.com/ubuntu bionic/universe amd64 mecab-ipadic-utf8 all 2.7.0-20070801+main-1 [3,522 B]\n",
            "Fetched 29.0 MB in 2s (16.4 MB/s)\n",
            "Selecting previously unselected package libmecab2:amd64.\r\n",
            "(Reading database ... \r(Reading database ... 5%\r(Reading database ... 10%\r(Reading database ... 15%\r(Reading database ... 20%\r(Reading database ... 25%\r(Reading database ... 30%\r(Reading database ... 35%\r(Reading database ... 40%\r(Reading database ... 45%\r(Reading database ... 50%\r(Reading database ... 55%\r(Reading database ... 60%\r(Reading database ... 65%\r(Reading database ... 70%\r(Reading database ... 75%\r(Reading database ... 80%\r(Reading database ... 85%\r(Reading database ... 90%\r(Reading database ... 95%\r(Reading database ... 100%\r(Reading database ... 134485 files and directories currently installed.)\r\n",
            "Preparing to unpack .../0-libmecab2_0.996-5_amd64.deb ...\r\n",
            "Unpacking libmecab2:amd64 (0.996-5) ...\r\n",
            "Selecting previously unselected package libmecab-dev.\r\n",
            "Preparing to unpack .../1-libmecab-dev_0.996-5_amd64.deb ...\r\n",
            "Unpacking libmecab-dev (0.996-5) ...\r\n",
            "Selecting previously unselected package mecab-utils.\r\n",
            "Preparing to unpack .../2-mecab-utils_0.996-5_amd64.deb ...\r\n",
            "Unpacking mecab-utils (0.996-5) ...\r\n",
            "Selecting previously unselected package mecab-jumandic-utf8.\r\n",
            "Preparing to unpack .../3-mecab-jumandic-utf8_7.0-20130310-4_all.deb ...\r\n",
            "Unpacking mecab-jumandic-utf8 (7.0-20130310-4) ...\r\n",
            "Selecting previously unselected package mecab-jumandic.\r\n",
            "Preparing to unpack .../4-mecab-jumandic_7.0-20130310-4_all.deb ...\r\n",
            "Unpacking mecab-jumandic (7.0-20130310-4) ...\r\n",
            "Selecting previously unselected package mecab-ipadic.\r\n",
            "Preparing to unpack .../5-mecab-ipadic_2.7.0-20070801+main-1_all.deb ...\r\n",
            "Unpacking mecab-ipadic (2.7.0-20070801+main-1) ...\r\n",
            "Selecting previously unselected package mecab.\r\n",
            "Preparing to unpack .../6-mecab_0.996-5_amd64.deb ...\r\n",
            "Unpacking mecab (0.996-5) ...\r\n",
            "Selecting previously unselected package mecab-ipadic-utf8.\r\n",
            "Preparing to unpack .../7-mecab-ipadic-utf8_2.7.0-20070801+main-1_all.deb ...\r\n",
            "Unpacking mecab-ipadic-utf8 (2.7.0-20070801+main-1) ...\r\n",
            "Setting up libmecab2:amd64 (0.996-5) ...\r\n",
            "Setting up mecab-utils (0.996-5) ...\r\n",
            "Setting up mecab-ipadic (2.7.0-20070801+main-1) ...\r\n",
            "Compiling IPA dictionary for Mecab.  This takes long time...\r\n",
            "reading /usr/share/mecab/dic/ipadic/unk.def ... 40\r\n",
            "emitting double-array:   9% |###                                        | \remitting double-array:  18% |#######                                    | \remitting double-array:  27% |###########                                | \remitting double-array:  36% |###############                            | \remitting double-array:  45% |###################                        | \remitting double-array:  54% |#######################                    | \remitting double-array:  63% |###########################                | \remitting double-array:  72% |###############################            | \remitting double-array:  81% |###################################        | \remitting double-array:  90% |#######################################    | \remitting double-array: 100% |###########################################| \r\n",
            "/usr/share/mecab/dic/ipadic/model.def is not found. skipped.\r\n",
            "reading /usr/share/mecab/dic/ipadic/Noun.demonst.csv ... 120\r\n",
            "reading /usr/share/mecab/dic/ipadic/Noun.nai.csv ... 42\r\n",
            "reading /usr/share/mecab/dic/ipadic/Noun.proper.csv ... 27327\r\n",
            "reading /usr/share/mecab/dic/ipadic/Interjection.csv ... 252\r\n",
            "reading /usr/share/mecab/dic/ipadic/Noun.adverbal.csv ... 795\r\n",
            "reading /usr/share/mecab/dic/ipadic/Noun.place.csv ... 72999\r\n",
            "reading /usr/share/mecab/dic/ipadic/Prefix.csv ... 221\r\n",
            "reading /usr/share/mecab/dic/ipadic/Adverb.csv ... 3032\r\n",
            "reading /usr/share/mecab/dic/ipadic/Noun.number.csv ... 42\r\n",
            "reading /usr/share/mecab/dic/ipadic/Noun.adjv.csv ... 3328\r\n",
            "reading /usr/share/mecab/dic/ipadic/Adnominal.csv ... 135\r\n",
            "reading /usr/share/mecab/dic/ipadic/Conjunction.csv ... 171\r\n",
            "reading /usr/share/mecab/dic/ipadic/Symbol.csv ... 208\r\n",
            "reading /usr/share/mecab/dic/ipadic/Filler.csv ... 19\r\n",
            "reading /usr/share/mecab/dic/ipadic/Noun.csv ... 60477\r\n",
            "reading /usr/share/mecab/dic/ipadic/Others.csv ... 2\r\n",
            "reading /usr/share/mecab/dic/ipadic/Postp.csv ... 146\r\n",
            "reading /usr/share/mecab/dic/ipadic/Adj.csv ... 27210\r\n",
            "reading /usr/share/mecab/dic/ipadic/Noun.org.csv ... 16668\r\n",
            "reading /usr/share/mecab/dic/ipadic/Noun.verbal.csv ... 12146\r\n",
            "reading /usr/share/mecab/dic/ipadic/Auxil.csv ... 199\r\n",
            "reading /usr/share/mecab/dic/ipadic/Suffix.csv ... 1393\r\n",
            "reading /usr/share/mecab/dic/ipadic/Noun.name.csv ... 34202\r\n",
            "reading /usr/share/mecab/dic/ipadic/Postp-col.csv ... 91\r\n",
            "reading /usr/share/mecab/dic/ipadic/Noun.others.csv ... 151\r\n",
            "reading /usr/share/mecab/dic/ipadic/Verb.csv ... 130750\r\n",
            "emitting double-array:   0% |                                           | \remitting double-array:   1% |                                           | \remitting double-array:   2% |                                           | \remitting double-array:   3% |#                                          | \remitting double-array:   4% |#                                          | \remitting double-array:   5% |##                                         | \remitting double-array:   6% |##                                         | \remitting double-array:   7% |###                                        | \remitting double-array:   8% |###                                        | \remitting double-array:   9% |###                                        | \remitting double-array:  10% |####                                       | \remitting double-array:  11% |####                                       | \remitting double-array:  12% |#####                                      | \remitting double-array:  13% |#####                                      | \remitting double-array:  14% |######                                     | \remitting double-array:  15% |######                                     | \remitting double-array:  16% |######                                     | \remitting double-array:  17% |#######                                    | \remitting double-array:  18% |#######                                    | \remitting double-array:  19% |########                                   | \remitting double-array:  20% |########                                   | \remitting double-array:  21% |#########                                  | \remitting double-array:  22% |#########                                  | \remitting double-array:  23% |#########                                  | \remitting double-array:  24% |##########                                 | \remitting double-array:  25% |##########                                 | \remitting double-array:  26% |###########                                | \remitting double-array:  27% |###########                                | \remitting double-array:  28% |############                               | \remitting double-array:  29% |############                               | \remitting double-array:  30% |############                               | \remitting double-array:  31% |#############                              | \remitting double-array:  32% |#############                              | \remitting double-array:  33% |##############                             | \remitting double-array:  34% |##############                             | \remitting double-array:  35% |###############                            | \remitting double-array:  36% |###############                            | \remitting double-array:  37% |###############                            | \remitting double-array:  38% |################                           | \remitting double-array:  39% |################                           | \remitting double-array:  40% |#################                          | \remitting double-array:  41% |#################                          | \remitting double-array:  42% |##################                         | \remitting double-array:  43% |##################                         | \remitting double-array:  44% |##################                         | \remitting double-array:  45% |###################                        | \remitting double-array:  46% |###################                        | \remitting double-array:  47% |####################                       | \remitting double-array:  48% |####################                       | \remitting double-array:  49% |#####################                      | \remitting double-array:  50% |#####################                      | \remitting double-array:  51% |#####################                      | \remitting double-array:  52% |######################                     | \remitting double-array:  53% |######################                     | \remitting double-array:  54% |#######################                    | \remitting double-array:  55% |#######################                    | \remitting double-array:  56% |########################                   | \remitting double-array:  57% |########################                   | \remitting double-array:  58% |########################                   | \remitting double-array:  59% |#########################                  | \remitting double-array:  60% |#########################                  | \remitting double-array:  61% |##########################                 | \remitting double-array:  62% |##########################                 | \remitting double-array:  63% |###########################                | \remitting double-array:  64% |###########################                | \remitting double-array:  65% |###########################                | \remitting double-array:  66% |############################               | \remitting double-array:  67% |############################               | \remitting double-array:  68% |#############################              | \remitting double-array:  69% |#############################              | \remitting double-array:  70% |##############################             | \remitting double-array:  71% |##############################             | \remitting double-array:  72% |##############################             | \remitting double-array:  73% |###############################            | \remitting double-array:  74% |###############################            | \remitting double-array:  75% |################################           | \remitting double-array:  76% |################################           | \remitting double-array:  77% |#################################          | \remitting double-array:  78% |#################################          | \remitting double-array:  79% |#################################          | \remitting double-array:  80% |##################################         | \remitting double-array:  81% |##################################         | \remitting double-array:  82% |###################################        | \remitting double-array:  83% |###################################        | \remitting double-array:  84% |####################################       | \remitting double-array:  85% |####################################       | \remitting double-array:  86% |####################################       | \remitting double-array:  87% |#####################################      | \remitting double-array:  88% |#####################################      | \remitting double-array:  89% |######################################     | \remitting double-array:  90% |######################################     | \remitting double-array:  91% |#######################################    | \remitting double-array:  92% |#######################################    | \remitting double-array:  93% |#######################################    | \remitting double-array:  94% |########################################   | \remitting double-array:  95% |########################################   | \remitting double-array:  96% |#########################################  | \remitting double-array:  97% |#########################################  | \remitting double-array:  98% |########################################## | \remitting double-array:  99% |########################################## | \remitting double-array: 100% |###########################################| \r\n",
            "reading /usr/share/mecab/dic/ipadic/matrix.def ... 1316x1316\r\n",
            "emitting matrix      :   0% |                                           | \remitting matrix      :   1% |                                           | \remitting matrix      :   2% |                                           | \remitting matrix      :   3% |#                                          | \remitting matrix      :   4% |#                                          | \remitting matrix      :   5% |##                                         | \remitting matrix      :   6% |##                                         | \remitting matrix      :   7% |###                                        | \remitting matrix      :   8% |###                                        | \remitting matrix      :   9% |###                                        | \remitting matrix      :  10% |####                                       | \remitting matrix      :  11% |####                                       | \remitting matrix      :  12% |#####                                      | \remitting matrix      :  13% |#####                                      | \remitting matrix      :  14% |######                                     | \remitting matrix      :  15% |######                                     | \remitting matrix      :  16% |######                                     | \remitting matrix      :  17% |#######                                    | \remitting matrix      :  18% |#######                                    | \remitting matrix      :  19% |########                                   | \remitting matrix      :  20% |########                                   | \remitting matrix      :  21% |#########                                  | \remitting matrix      :  22% |#########                                  | \remitting matrix      :  23% |#########                                  | \remitting matrix      :  24% |##########                                 | \remitting matrix      :  25% |##########                                 | \remitting matrix      :  26% |###########                                | \remitting matrix      :  27% |###########                                | \remitting matrix      :  28% |############                               | \remitting matrix      :  29% |############                               | \remitting matrix      :  30% |############                               | \remitting matrix      :  31% |#############                              | \remitting matrix      :  32% |#############                              | \remitting matrix      :  33% |##############                             | \remitting matrix      :  34% |##############                             | \remitting matrix      :  35% |###############                            | \remitting matrix      :  36% |###############                            | \remitting matrix      :  37% |###############                            | \remitting matrix      :  38% |################                           | \remitting matrix      :  39% |################                           | \remitting matrix      :  40% |#################                          | \remitting matrix      :  41% |#################                          | \remitting matrix      :  42% |##################                         | \remitting matrix      :  43% |##################                         | \remitting matrix      :  44% |##################                         | \remitting matrix      :  45% |###################                        | \remitting matrix      :  46% |###################                        | \remitting matrix      :  47% |####################                       | \remitting matrix      :  48% |####################                       | \remitting matrix      :  49% |#####################                      | \remitting matrix      :  50% |#####################                      | \remitting matrix      :  51% |#####################                      | \remitting matrix      :  52% |######################                     | \remitting matrix      :  53% |######################                     | \remitting matrix      :  54% |#######################                    | \remitting matrix      :  55% |#######################                    | \remitting matrix      :  56% |########################                   | \remitting matrix      :  57% |########################                   | \remitting matrix      :  58% |########################                   | \remitting matrix      :  59% |#########################                  | \remitting matrix      :  60% |#########################                  | \remitting matrix      :  61% |##########################                 | \remitting matrix      :  62% |##########################                 | \remitting matrix      :  63% |###########################                | \remitting matrix      :  64% |###########################                | \remitting matrix      :  65% |###########################                | \remitting matrix      :  66% |############################               | \remitting matrix      :  67% |############################               | \remitting matrix      :  68% |#############################              | \remitting matrix      :  69% |#############################              | \remitting matrix      :  70% |##############################             | \remitting matrix      :  71% |##############################             | \remitting matrix      :  72% |##############################             | \remitting matrix      :  73% |###############################            | \remitting matrix      :  74% |###############################            | \remitting matrix      :  75% |################################           | \remitting matrix      :  76% |################################           | \remitting matrix      :  77% |#################################          | \remitting matrix      :  78% |#################################          | \remitting matrix      :  79% |#################################          | \remitting matrix      :  80% |##################################         | \remitting matrix      :  81% |##################################         | \remitting matrix      :  82% |###################################        | \remitting matrix      :  83% |###################################        | \remitting matrix      :  84% |####################################       | \remitting matrix      :  85% |####################################       | \remitting matrix      :  86% |####################################       | \remitting matrix      :  87% |#####################################      | \remitting matrix      :  88% |#####################################      | \remitting matrix      :  89% |######################################     | \remitting matrix      :  90% |######################################     | \remitting matrix      :  91% |#######################################    | \remitting matrix      :  92% |#######################################    | \remitting matrix      :  93% |#######################################    | \remitting matrix      :  94% |########################################   | \remitting matrix      :  95% |########################################   | \remitting matrix      :  96% |#########################################  | \remitting matrix      :  97% |#########################################  | \remitting matrix      :  98% |########################################## | \remitting matrix      :  99% |########################################## | \remitting matrix      : 100% |###########################################| \r\n",
            "\r\n",
            "done!\r\n",
            "update-alternatives: using /var/lib/mecab/dic/ipadic to provide /var/lib/mecab/dic/debian (mecab-dictionary) in auto mode\r\n",
            "Setting up libmecab-dev (0.996-5) ...\r\n",
            "Setting up mecab-jumandic-utf8 (7.0-20130310-4) ...\r\n",
            "Compiling Juman dictionary for Mecab.\r\n",
            "reading /usr/share/mecab/dic/juman/unk.def ... 37\r\n",
            "emitting double-array:  10% |####                                       | \remitting double-array:  20% |########                                   | \remitting double-array:  30% |############                               | \remitting double-array:  40% |#################                          | \remitting double-array:  50% |#####################                      | \remitting double-array:  60% |#########################                  | \remitting double-array:  70% |##############################             | \remitting double-array:  80% |##################################         | \remitting double-array:  90% |######################################     | \remitting double-array: 100% |###########################################| \r\n",
            "reading /usr/share/mecab/dic/juman/Noun.keishiki.csv ... 8\r\n",
            "reading /usr/share/mecab/dic/juman/Wikipedia.csv ... 167709\r\n",
            "reading /usr/share/mecab/dic/juman/Prefix.csv ... 90\r\n",
            "reading /usr/share/mecab/dic/juman/Noun.suusi.csv ... 49\r\n",
            "reading /usr/share/mecab/dic/juman/Postp.csv ... 108\r\n",
            "reading /usr/share/mecab/dic/juman/Auto.csv ... 18931\r\n",
            "reading /usr/share/mecab/dic/juman/Noun.koyuu.csv ... 7964\r\n",
            "reading /usr/share/mecab/dic/juman/ContentW.csv ... 551145\r\n",
            "reading /usr/share/mecab/dic/juman/AuxV.csv ... 593\r\n",
            "reading /usr/share/mecab/dic/juman/Emoticon.csv ... 972\r\n",
            "reading /usr/share/mecab/dic/juman/Special.csv ... 158\r\n",
            "reading /usr/share/mecab/dic/juman/Rengo.csv ... 1118\r\n",
            "reading /usr/share/mecab/dic/juman/Suffix.csv ... 2128\r\n",
            "reading /usr/share/mecab/dic/juman/Noun.hukusi.csv ... 81\r\n",
            "reading /usr/share/mecab/dic/juman/Demonstrative.csv ... 97\r\n",
            "reading /usr/share/mecab/dic/juman/Assert.csv ... 34\r\n",
            "emitting double-array:   0% |                                           | \remitting double-array:   1% |                                           | \remitting double-array:   2% |                                           | \remitting double-array:   3% |#                                          | \remitting double-array:   4% |#                                          | \remitting double-array:   5% |##                                         | \remitting double-array:   6% |##                                         | \remitting double-array:   7% |###                                        | \remitting double-array:   8% |###                                        | \remitting double-array:   9% |###                                        | \remitting double-array:  10% |####                                       | \remitting double-array:  11% |####                                       | \remitting double-array:  12% |#####                                      | \remitting double-array:  13% |#####                                      | \remitting double-array:  14% |######                                     | \remitting double-array:  15% |######                                     | \remitting double-array:  16% |######                                     | \remitting double-array:  17% |#######                                    | \remitting double-array:  18% |#######                                    | \remitting double-array:  19% |########                                   | \remitting double-array:  20% |########                                   | \remitting double-array:  21% |#########                                  | \remitting double-array:  22% |#########                                  | \remitting double-array:  23% |#########                                  | \remitting double-array:  24% |##########                                 | \remitting double-array:  25% |##########                                 | \remitting double-array:  26% |###########                                | \remitting double-array:  27% |###########                                | \remitting double-array:  28% |############                               | \remitting double-array:  29% |############                               | \remitting double-array:  30% |############                               | \remitting double-array:  31% |#############                              | \remitting double-array:  32% |#############                              | \remitting double-array:  33% |##############                             | \remitting double-array:  34% |##############                             | \remitting double-array:  35% |###############                            | \remitting double-array:  36% |###############                            | \remitting double-array:  37% |###############                            | \remitting double-array:  38% |################                           | \remitting double-array:  39% |################                           | \remitting double-array:  40% |#################                          | \remitting double-array:  41% |#################                          | \remitting double-array:  42% |##################                         | \remitting double-array:  43% |##################                         | \remitting double-array:  44% |##################                         | \remitting double-array:  45% |###################                        | \remitting double-array:  46% |###################                        | \remitting double-array:  47% |####################                       | \remitting double-array:  48% |####################                       | \remitting double-array:  49% |#####################                      | \remitting double-array:  50% |#####################                      | \remitting double-array:  51% |#####################                      | \remitting double-array:  52% |######################                     | \remitting double-array:  53% |######################                     | \remitting double-array:  54% |#######################                    | \remitting double-array:  55% |#######################                    | \remitting double-array:  56% |########################                   | \remitting double-array:  57% |########################                   | \remitting double-array:  58% |########################                   | \remitting double-array:  59% |#########################                  | \remitting double-array:  60% |#########################                  | \remitting double-array:  61% |##########################                 | \remitting double-array:  62% |##########################                 | \remitting double-array:  63% |###########################                | \remitting double-array:  64% |###########################                | \remitting double-array:  65% |###########################                | \remitting double-array:  66% |############################               | \remitting double-array:  67% |############################               | \remitting double-array:  68% |#############################              | \remitting double-array:  69% |#############################              | \remitting double-array:  70% |##############################             | \remitting double-array:  71% |##############################             | \remitting double-array:  72% |##############################             | \remitting double-array:  73% |###############################            | \remitting double-array:  74% |###############################            | \remitting double-array:  75% |################################           | \remitting double-array:  76% |################################           | \remitting double-array:  77% |#################################          | \remitting double-array:  78% |#################################          | \remitting double-array:  79% |#################################          | \remitting double-array:  80% |##################################         | \remitting double-array:  81% |##################################         | \remitting double-array:  82% |###################################        | \remitting double-array:  83% |###################################        | \remitting double-array:  84% |####################################       | \remitting double-array:  85% |####################################       | \remitting double-array:  86% |####################################       | \remitting double-array:  87% |#####################################      | \remitting double-array:  88% |#####################################      | \remitting double-array:  89% |######################################     | \remitting double-array:  90% |######################################     | \remitting double-array:  91% |#######################################    | \remitting double-array:  92% |#######################################    | \remitting double-array:  93% |#######################################    | \remitting double-array:  94% |########################################   | \remitting double-array:  95% |########################################   | \remitting double-array:  96% |#########################################  | \remitting double-array:  97% |#########################################  | \remitting double-array:  98% |########################################## | \remitting double-array:  99% |########################################## | \remitting double-array: 100% |###########################################| \r\n",
            "reading /usr/share/mecab/dic/juman/matrix.def ... 1876x1876\r\n",
            "emitting matrix      :   0% |                                           | \remitting matrix      :   1% |                                           | \remitting matrix      :   2% |                                           | \remitting matrix      :   3% |#                                          | \remitting matrix      :   4% |#                                          | \remitting matrix      :   5% |##                                         | \remitting matrix      :   6% |##                                         | \remitting matrix      :   7% |###                                        | \remitting matrix      :   8% |###                                        | \remitting matrix      :   9% |###                                        | \remitting matrix      :  10% |####                                       | \remitting matrix      :  11% |####                                       | \remitting matrix      :  12% |#####                                      | \remitting matrix      :  13% |#####                                      | \remitting matrix      :  14% |######                                     | \remitting matrix      :  15% |######                                     | \remitting matrix      :  16% |######                                     | \remitting matrix      :  17% |#######                                    | \remitting matrix      :  18% |#######                                    | \remitting matrix      :  19% |########                                   | \remitting matrix      :  20% |########                                   | \remitting matrix      :  21% |#########                                  | \remitting matrix      :  22% |#########                                  | \remitting matrix      :  23% |#########                                  | \remitting matrix      :  24% |##########                                 | \remitting matrix      :  25% |##########                                 | \remitting matrix      :  26% |###########                                | \remitting matrix      :  27% |###########                                | \remitting matrix      :  28% |############                               | \remitting matrix      :  29% |############                               | \remitting matrix      :  30% |############                               | \remitting matrix      :  31% |#############                              | \remitting matrix      :  32% |#############                              | \remitting matrix      :  33% |##############                             | \remitting matrix      :  34% |##############                             | \remitting matrix      :  35% |###############                            | \remitting matrix      :  36% |###############                            | \remitting matrix      :  37% |###############                            | \remitting matrix      :  38% |################                           | \remitting matrix      :  39% |################                           | \remitting matrix      :  40% |#################                          | \remitting matrix      :  41% |#################                          | \remitting matrix      :  42% |##################                         | \remitting matrix      :  43% |##################                         | \remitting matrix      :  44% |##################                         | \remitting matrix      :  45% |###################                        | \remitting matrix      :  46% |###################                        | \remitting matrix      :  47% |####################                       | \remitting matrix      :  48% |####################                       | \remitting matrix      :  49% |#####################                      | \remitting matrix      :  50% |#####################                      | \remitting matrix      :  51% |#####################                      | \remitting matrix      :  52% |######################                     | \remitting matrix      :  53% |######################                     | \remitting matrix      :  54% |#######################                    | \remitting matrix      :  55% |#######################                    | \remitting matrix      :  56% |########################                   | \remitting matrix      :  57% |########################                   | \remitting matrix      :  58% |########################                   | \remitting matrix      :  59% |#########################                  | \remitting matrix      :  60% |#########################                  | \remitting matrix      :  61% |##########################                 | \remitting matrix      :  62% |##########################                 | \remitting matrix      :  63% |###########################                | \remitting matrix      :  64% |###########################                | \remitting matrix      :  65% |###########################                | \remitting matrix      :  66% |############################               | \remitting matrix      :  67% |############################               | \remitting matrix      :  68% |#############################              | \remitting matrix      :  69% |#############################              | \remitting matrix      :  70% |##############################             | \remitting matrix      :  71% |##############################             | \remitting matrix      :  72% |##############################             | \remitting matrix      :  73% |###############################            | \remitting matrix      :  74% |###############################            | \remitting matrix      :  75% |################################           | \remitting matrix      :  76% |################################           | \remitting matrix      :  77% |#################################          | \remitting matrix      :  78% |#################################          | \remitting matrix      :  79% |#################################          | \remitting matrix      :  80% |##################################         | \remitting matrix      :  81% |##################################         | \remitting matrix      :  82% |###################################        | \remitting matrix      :  83% |###################################        | \remitting matrix      :  84% |####################################       | \remitting matrix      :  85% |####################################       | \remitting matrix      :  86% |####################################       | \remitting matrix      :  87% |#####################################      | \remitting matrix      :  88% |#####################################      | \remitting matrix      :  89% |######################################     | \remitting matrix      :  90% |######################################     | \remitting matrix      :  91% |#######################################    | \remitting matrix      :  92% |#######################################    | \remitting matrix      :  93% |#######################################    | \remitting matrix      :  94% |########################################   | \remitting matrix      :  95% |########################################   | \remitting matrix      :  96% |#########################################  | \remitting matrix      :  97% |#########################################  | \remitting matrix      :  98% |########################################## | \remitting matrix      :  99% |########################################## | \remitting matrix      : 100% |###########################################| \r\n",
            "\r\n",
            "done!\r\n",
            "Setting up mecab-ipadic-utf8 (2.7.0-20070801+main-1) ...\r\n",
            "Compiling IPA dictionary for Mecab.  This takes long time...\r\n",
            "reading /usr/share/mecab/dic/ipadic/unk.def ... 40\r\n",
            "emitting double-array:   9% |###                                        | \remitting double-array:  18% |#######                                    | \remitting double-array:  27% |###########                                | \remitting double-array:  36% |###############                            | \remitting double-array:  45% |###################                        | \remitting double-array:  54% |#######################                    | \remitting double-array:  63% |###########################                | \remitting double-array:  72% |###############################            | \remitting double-array:  81% |###################################        | \remitting double-array:  90% |#######################################    | \remitting double-array: 100% |###########################################| \r\n",
            "/usr/share/mecab/dic/ipadic/model.def is not found. skipped.\r\n",
            "reading /usr/share/mecab/dic/ipadic/Noun.demonst.csv ... 120\r\n",
            "reading /usr/share/mecab/dic/ipadic/Noun.nai.csv ... 42\r\n",
            "reading /usr/share/mecab/dic/ipadic/Noun.proper.csv ... 27327\r\n",
            "reading /usr/share/mecab/dic/ipadic/Interjection.csv ... 252\r\n",
            "reading /usr/share/mecab/dic/ipadic/Noun.adverbal.csv ... 795\r\n",
            "reading /usr/share/mecab/dic/ipadic/Noun.place.csv ... 72999\r\n",
            "reading /usr/share/mecab/dic/ipadic/Prefix.csv ... 221\r\n",
            "reading /usr/share/mecab/dic/ipadic/Adverb.csv ... 3032\r\n",
            "reading /usr/share/mecab/dic/ipadic/Noun.number.csv ... 42\r\n",
            "reading /usr/share/mecab/dic/ipadic/Noun.adjv.csv ... 3328\r\n",
            "reading /usr/share/mecab/dic/ipadic/Adnominal.csv ... 135\r\n",
            "reading /usr/share/mecab/dic/ipadic/Conjunction.csv ... 171\r\n",
            "reading /usr/share/mecab/dic/ipadic/Symbol.csv ... 208\r\n",
            "reading /usr/share/mecab/dic/ipadic/Filler.csv ... 19\r\n",
            "reading /usr/share/mecab/dic/ipadic/Noun.csv ... 60477\r\n",
            "reading /usr/share/mecab/dic/ipadic/Others.csv ... 2\r\n",
            "reading /usr/share/mecab/dic/ipadic/Postp.csv ... 146\r\n",
            "reading /usr/share/mecab/dic/ipadic/Adj.csv ... 27210\r\n",
            "reading /usr/share/mecab/dic/ipadic/Noun.org.csv ... 16668\r\n",
            "reading /usr/share/mecab/dic/ipadic/Noun.verbal.csv ... 12146\r\n",
            "reading /usr/share/mecab/dic/ipadic/Auxil.csv ... 199\r\n",
            "reading /usr/share/mecab/dic/ipadic/Suffix.csv ... 1393\r\n",
            "reading /usr/share/mecab/dic/ipadic/Noun.name.csv ... 34202\r\n",
            "reading /usr/share/mecab/dic/ipadic/Postp-col.csv ... 91\r\n",
            "reading /usr/share/mecab/dic/ipadic/Noun.others.csv ... 151\r\n",
            "reading /usr/share/mecab/dic/ipadic/Verb.csv ... 130750\r\n",
            "emitting double-array:   0% |                                           | \remitting double-array:   1% |                                           | \remitting double-array:   2% |                                           | \remitting double-array:   3% |#                                          | \remitting double-array:   4% |#                                          | \remitting double-array:   5% |##                                         | \remitting double-array:   6% |##                                         | \remitting double-array:   7% |###                                        | \remitting double-array:   8% |###                                        | \remitting double-array:   9% |###                                        | \remitting double-array:  10% |####                                       | \remitting double-array:  11% |####                                       | \remitting double-array:  12% |#####                                      | \remitting double-array:  13% |#####                                      | \remitting double-array:  14% |######                                     | \remitting double-array:  15% |######                                     | \remitting double-array:  16% |######                                     | \remitting double-array:  17% |#######                                    | \remitting double-array:  18% |#######                                    | \remitting double-array:  19% |########                                   | \remitting double-array:  20% |########                                   | \remitting double-array:  21% |#########                                  | \remitting double-array:  22% |#########                                  | \remitting double-array:  23% |#########                                  | \remitting double-array:  24% |##########                                 | \remitting double-array:  25% |##########                                 | \remitting double-array:  26% |###########                                | \remitting double-array:  27% |###########                                | \remitting double-array:  28% |############                               | \remitting double-array:  29% |############                               | \remitting double-array:  30% |############                               | \remitting double-array:  31% |#############                              | \remitting double-array:  32% |#############                              | \remitting double-array:  33% |##############                             | \remitting double-array:  34% |##############                             | \remitting double-array:  35% |###############                            | \remitting double-array:  36% |###############                            | \remitting double-array:  37% |###############                            | \remitting double-array:  38% |################                           | \remitting double-array:  39% |################                           | \remitting double-array:  40% |#################                          | \remitting double-array:  41% |#################                          | \remitting double-array:  42% |##################                         | \remitting double-array:  43% |##################                         | \remitting double-array:  44% |##################                         | \remitting double-array:  45% |###################                        | \remitting double-array:  46% |###################                        | \remitting double-array:  47% |####################                       | \remitting double-array:  48% |####################                       | \remitting double-array:  49% |#####################                      | \remitting double-array:  50% |#####################                      | \remitting double-array:  51% |#####################                      | \remitting double-array:  52% |######################                     | \remitting double-array:  53% |######################                     | \remitting double-array:  54% |#######################                    | \remitting double-array:  55% |#######################                    | \remitting double-array:  56% |########################                   | \remitting double-array:  57% |########################                   | \remitting double-array:  58% |########################                   | \remitting double-array:  59% |#########################                  | \remitting double-array:  60% |#########################                  | \remitting double-array:  61% |##########################                 | \remitting double-array:  62% |##########################                 | \remitting double-array:  63% |###########################                | \remitting double-array:  64% |###########################                | \remitting double-array:  65% |###########################                | \remitting double-array:  66% |############################               | \remitting double-array:  67% |############################               | \remitting double-array:  68% |#############################              | \remitting double-array:  69% |#############################              | \remitting double-array:  70% |##############################             | \remitting double-array:  71% |##############################             | \remitting double-array:  72% |##############################             | \remitting double-array:  73% |###############################            | \remitting double-array:  74% |###############################            | \remitting double-array:  75% |################################           | \remitting double-array:  76% |################################           | \remitting double-array:  77% |#################################          | \remitting double-array:  78% |#################################          | \remitting double-array:  79% |#################################          | \remitting double-array:  80% |##################################         | \remitting double-array:  81% |##################################         | \remitting double-array:  82% |###################################        | \remitting double-array:  83% |###################################        | \remitting double-array:  84% |####################################       | \remitting double-array:  85% |####################################       | \remitting double-array:  86% |####################################       | \remitting double-array:  87% |#####################################      | \remitting double-array:  88% |#####################################      | \remitting double-array:  89% |######################################     | \remitting double-array:  90% |######################################     | \remitting double-array:  91% |#######################################    | \remitting double-array:  92% |#######################################    | \remitting double-array:  93% |#######################################    | \remitting double-array:  94% |########################################   | \remitting double-array:  95% |########################################   | \remitting double-array:  96% |#########################################  | \remitting double-array:  97% |#########################################  | \remitting double-array:  98% |########################################## | \remitting double-array:  99% |########################################## | \remitting double-array: 100% |###########################################| \r\n",
            "reading /usr/share/mecab/dic/ipadic/matrix.def ... 1316x1316\r\n",
            "emitting matrix      :   0% |                                           | \remitting matrix      :   1% |                                           | \remitting matrix      :   2% |                                           | \remitting matrix      :   3% |#                                          | \remitting matrix      :   4% |#                                          | \remitting matrix      :   5% |##                                         | \remitting matrix      :   6% |##                                         | \remitting matrix      :   7% |###                                        | \remitting matrix      :   8% |###                                        | \remitting matrix      :   9% |###                                        | \remitting matrix      :  10% |####                                       | \remitting matrix      :  11% |####                                       | \remitting matrix      :  12% |#####                                      | \remitting matrix      :  13% |#####                                      | \remitting matrix      :  14% |######                                     | \remitting matrix      :  15% |######                                     | \remitting matrix      :  16% |######                                     | \remitting matrix      :  17% |#######                                    | \remitting matrix      :  18% |#######                                    | \remitting matrix      :  19% |########                                   | \remitting matrix      :  20% |########                                   | \remitting matrix      :  21% |#########                                  | \remitting matrix      :  22% |#########                                  | \remitting matrix      :  23% |#########                                  | \remitting matrix      :  24% |##########                                 | \remitting matrix      :  25% |##########                                 | \remitting matrix      :  26% |###########                                | \remitting matrix      :  27% |###########                                | \remitting matrix      :  28% |############                               | \remitting matrix      :  29% |############                               | \remitting matrix      :  30% |############                               | \remitting matrix      :  31% |#############                              | \remitting matrix      :  32% |#############                              | \remitting matrix      :  33% |##############                             | \remitting matrix      :  34% |##############                             | \remitting matrix      :  35% |###############                            | \remitting matrix      :  36% |###############                            | \remitting matrix      :  37% |###############                            | \remitting matrix      :  38% |################                           | \remitting matrix      :  39% |################                           | \remitting matrix      :  40% |#################                          | \remitting matrix      :  41% |#################                          | \remitting matrix      :  42% |##################                         | \remitting matrix      :  43% |##################                         | \remitting matrix      :  44% |##################                         | \remitting matrix      :  45% |###################                        | \remitting matrix      :  46% |###################                        | \remitting matrix      :  47% |####################                       | \remitting matrix      :  48% |####################                       | \remitting matrix      :  49% |#####################                      | \remitting matrix      :  50% |#####################                      | \remitting matrix      :  51% |#####################                      | \remitting matrix      :  52% |######################                     | \remitting matrix      :  53% |######################                     | \remitting matrix      :  54% |#######################                    | \remitting matrix      :  55% |#######################                    | \remitting matrix      :  56% |########################                   | \remitting matrix      :  57% |########################                   | \remitting matrix      :  58% |########################                   | \remitting matrix      :  59% |#########################                  | \remitting matrix      :  60% |#########################                  | \remitting matrix      :  61% |##########################                 | \remitting matrix      :  62% |##########################                 | \remitting matrix      :  63% |###########################                | \remitting matrix      :  64% |###########################                | \remitting matrix      :  65% |###########################                | \remitting matrix      :  66% |############################               | \remitting matrix      :  67% |############################               | \remitting matrix      :  68% |#############################              | \remitting matrix      :  69% |#############################              | \remitting matrix      :  70% |##############################             | \remitting matrix      :  71% |##############################             | \remitting matrix      :  72% |##############################             | \remitting matrix      :  73% |###############################            | \remitting matrix      :  74% |###############################            | \remitting matrix      :  75% |################################           | \remitting matrix      :  76% |################################           | \remitting matrix      :  77% |#################################          | \remitting matrix      :  78% |#################################          | \remitting matrix      :  79% |#################################          | \remitting matrix      :  80% |##################################         | \remitting matrix      :  81% |##################################         | \remitting matrix      :  82% |###################################        | \remitting matrix      :  83% |###################################        | \remitting matrix      :  84% |####################################       | \remitting matrix      :  85% |####################################       | \remitting matrix      :  86% |####################################       | \remitting matrix      :  87% |#####################################      | \remitting matrix      :  88% |#####################################      | \remitting matrix      :  89% |######################################     | \remitting matrix      :  90% |######################################     | \remitting matrix      :  91% |#######################################    | \remitting matrix      :  92% |#######################################    | \remitting matrix      :  93% |#######################################    | \remitting matrix      :  94% |########################################   | \remitting matrix      :  95% |########################################   | \remitting matrix      :  96% |#########################################  | \remitting matrix      :  97% |#########################################  | \remitting matrix      :  98% |########################################## | \remitting matrix      :  99% |########################################## | \remitting matrix      : 100% |###########################################| \r\n",
            "\r\n",
            "done!\r\n",
            "update-alternatives: using /var/lib/mecab/dic/ipadic-utf8 to provide /var/lib/mecab/dic/debian (mecab-dictionary) in auto mode\r\n",
            "Setting up mecab (0.996-5) ...\r\n",
            "Compiling IPA dictionary for Mecab.  This takes long time...\r\n",
            "reading /usr/share/mecab/dic/ipadic/unk.def ... 40\r\n",
            "emitting double-array:   9% |###                                        | \remitting double-array:  18% |#######                                    | \remitting double-array:  27% |###########                                | \remitting double-array:  36% |###############                            | \remitting double-array:  45% |###################                        | \remitting double-array:  54% |#######################                    | \remitting double-array:  63% |###########################                | \remitting double-array:  72% |###############################            | \remitting double-array:  81% |###################################        | \remitting double-array:  90% |#######################################    | \remitting double-array: 100% |###########################################| \r\n",
            "/usr/share/mecab/dic/ipadic/model.def is not found. skipped.\r\n",
            "reading /usr/share/mecab/dic/ipadic/Noun.demonst.csv ... 120\r\n",
            "reading /usr/share/mecab/dic/ipadic/Noun.nai.csv ... 42\r\n",
            "reading /usr/share/mecab/dic/ipadic/Noun.proper.csv ... 27327\r\n",
            "reading /usr/share/mecab/dic/ipadic/Interjection.csv ... 252\r\n",
            "reading /usr/share/mecab/dic/ipadic/Noun.adverbal.csv ... 795\r\n",
            "reading /usr/share/mecab/dic/ipadic/Noun.place.csv ... 72999\r\n",
            "reading /usr/share/mecab/dic/ipadic/Prefix.csv ... 221\r\n",
            "reading /usr/share/mecab/dic/ipadic/Adverb.csv ... 3032\r\n",
            "reading /usr/share/mecab/dic/ipadic/Noun.number.csv ... 42\r\n",
            "reading /usr/share/mecab/dic/ipadic/Noun.adjv.csv ... 3328\r\n",
            "reading /usr/share/mecab/dic/ipadic/Adnominal.csv ... 135\r\n",
            "reading /usr/share/mecab/dic/ipadic/Conjunction.csv ... 171\r\n",
            "reading /usr/share/mecab/dic/ipadic/Symbol.csv ... 208\r\n",
            "reading /usr/share/mecab/dic/ipadic/Filler.csv ... 19\r\n",
            "reading /usr/share/mecab/dic/ipadic/Noun.csv ... 60477\r\n",
            "reading /usr/share/mecab/dic/ipadic/Others.csv ... 2\r\n",
            "reading /usr/share/mecab/dic/ipadic/Postp.csv ... 146\r\n",
            "reading /usr/share/mecab/dic/ipadic/Adj.csv ... 27210\r\n",
            "reading /usr/share/mecab/dic/ipadic/Noun.org.csv ... 16668\r\n",
            "reading /usr/share/mecab/dic/ipadic/Noun.verbal.csv ... 12146\r\n",
            "reading /usr/share/mecab/dic/ipadic/Auxil.csv ... 199\r\n",
            "reading /usr/share/mecab/dic/ipadic/Suffix.csv ... 1393\r\n",
            "reading /usr/share/mecab/dic/ipadic/Noun.name.csv ... 34202\r\n",
            "reading /usr/share/mecab/dic/ipadic/Postp-col.csv ... 91\r\n",
            "reading /usr/share/mecab/dic/ipadic/Noun.others.csv ... 151\r\n",
            "reading /usr/share/mecab/dic/ipadic/Verb.csv ... 130750\r\n",
            "emitting double-array:   0% |                                           | \remitting double-array:   1% |                                           | \remitting double-array:   2% |                                           | \remitting double-array:   3% |#                                          | \remitting double-array:   4% |#                                          | \remitting double-array:   5% |##                                         | \remitting double-array:   6% |##                                         | \remitting double-array:   7% |###                                        | \remitting double-array:   8% |###                                        | \remitting double-array:   9% |###                                        | \remitting double-array:  10% |####                                       | \remitting double-array:  11% |####                                       | \remitting double-array:  12% |#####                                      | \remitting double-array:  13% |#####                                      | \remitting double-array:  14% |######                                     | \remitting double-array:  15% |######                                     | \remitting double-array:  16% |######                                     | \remitting double-array:  17% |#######                                    | \remitting double-array:  18% |#######                                    | \remitting double-array:  19% |########                                   | \remitting double-array:  20% |########                                   | \remitting double-array:  21% |#########                                  | \remitting double-array:  22% |#########                                  | \remitting double-array:  23% |#########                                  | \remitting double-array:  24% |##########                                 | \remitting double-array:  25% |##########                                 | \remitting double-array:  26% |###########                                | \remitting double-array:  27% |###########                                | \remitting double-array:  28% |############                               | \remitting double-array:  29% |############                               | \remitting double-array:  30% |############                               | \remitting double-array:  31% |#############                              | \remitting double-array:  32% |#############                              | \remitting double-array:  33% |##############                             | \remitting double-array:  34% |##############                             | \remitting double-array:  35% |###############                            | \remitting double-array:  36% |###############                            | \remitting double-array:  37% |###############                            | \remitting double-array:  38% |################                           | \remitting double-array:  39% |################                           | \remitting double-array:  40% |#################                          | \remitting double-array:  41% |#################                          | \remitting double-array:  42% |##################                         | \remitting double-array:  43% |##################                         | \remitting double-array:  44% |##################                         | \remitting double-array:  45% |###################                        | \remitting double-array:  46% |###################                        | \remitting double-array:  47% |####################                       | \remitting double-array:  48% |####################                       | \remitting double-array:  49% |#####################                      | \remitting double-array:  50% |#####################                      | \remitting double-array:  51% |#####################                      | \remitting double-array:  52% |######################                     | \remitting double-array:  53% |######################                     | \remitting double-array:  54% |#######################                    | \remitting double-array:  55% |#######################                    | \remitting double-array:  56% |########################                   | \remitting double-array:  57% |########################                   | \remitting double-array:  58% |########################                   | \remitting double-array:  59% |#########################                  | \remitting double-array:  60% |#########################                  | \remitting double-array:  61% |##########################                 | \remitting double-array:  62% |##########################                 | \remitting double-array:  63% |###########################                | \remitting double-array:  64% |###########################                | \remitting double-array:  65% |###########################                | \remitting double-array:  66% |############################               | \remitting double-array:  67% |############################               | \remitting double-array:  68% |#############################              | \remitting double-array:  69% |#############################              | \remitting double-array:  70% |##############################             | \remitting double-array:  71% |##############################             | \remitting double-array:  72% |##############################             | \remitting double-array:  73% |###############################            | \remitting double-array:  74% |###############################            | \remitting double-array:  75% |################################           | \remitting double-array:  76% |################################           | \remitting double-array:  77% |#################################          | \remitting double-array:  78% |#################################          | \remitting double-array:  79% |#################################          | \remitting double-array:  80% |##################################         | \remitting double-array:  81% |##################################         | \remitting double-array:  82% |###################################        | \remitting double-array:  83% |###################################        | \remitting double-array:  84% |####################################       | \remitting double-array:  85% |####################################       | \remitting double-array:  86% |####################################       | \remitting double-array:  87% |#####################################      | \remitting double-array:  88% |#####################################      | \remitting double-array:  89% |######################################     | \remitting double-array:  90% |######################################     | \remitting double-array:  91% |#######################################    | \remitting double-array:  92% |#######################################    | \remitting double-array:  93% |#######################################    | \remitting double-array:  94% |########################################   | \remitting double-array:  95% |########################################   | \remitting double-array:  96% |#########################################  | \remitting double-array:  97% |#########################################  | \remitting double-array:  98% |########################################## | \remitting double-array:  99% |########################################## | \remitting double-array: 100% |###########################################| \r\n",
            "reading /usr/share/mecab/dic/ipadic/matrix.def ... 1316x1316\r\n",
            "emitting matrix      :   0% |                                           | \remitting matrix      :   1% |                                           | \remitting matrix      :   2% |                                           | \remitting matrix      :   3% |#                                          | \remitting matrix      :   4% |#                                          | \remitting matrix      :   5% |##                                         | \remitting matrix      :   6% |##                                         | \remitting matrix      :   7% |###                                        | \remitting matrix      :   8% |###                                        | \remitting matrix      :   9% |###                                        | \remitting matrix      :  10% |####                                       | \remitting matrix      :  11% |####                                       | \remitting matrix      :  12% |#####                                      | \remitting matrix      :  13% |#####                                      | \remitting matrix      :  14% |######                                     | \remitting matrix      :  15% |######                                     | \remitting matrix      :  16% |######                                     | \remitting matrix      :  17% |#######                                    | \remitting matrix      :  18% |#######                                    | \remitting matrix      :  19% |########                                   | \remitting matrix      :  20% |########                                   | \remitting matrix      :  21% |#########                                  | \remitting matrix      :  22% |#########                                  | \remitting matrix      :  23% |#########                                  | \remitting matrix      :  24% |##########                                 | \remitting matrix      :  25% |##########                                 | \remitting matrix      :  26% |###########                                | \remitting matrix      :  27% |###########                                | \remitting matrix      :  28% |############                               | \remitting matrix      :  29% |############                               | \remitting matrix      :  30% |############                               | \remitting matrix      :  31% |#############                              | \remitting matrix      :  32% |#############                              | \remitting matrix      :  33% |##############                             | \remitting matrix      :  34% |##############                             | \remitting matrix      :  35% |###############                            | \remitting matrix      :  36% |###############                            | \remitting matrix      :  37% |###############                            | \remitting matrix      :  38% |################                           | \remitting matrix      :  39% |################                           | \remitting matrix      :  40% |#################                          | \remitting matrix      :  41% |#################                          | \remitting matrix      :  42% |##################                         | \remitting matrix      :  43% |##################                         | \remitting matrix      :  44% |##################                         | \remitting matrix      :  45% |###################                        | \remitting matrix      :  46% |###################                        | \remitting matrix      :  47% |####################                       | \remitting matrix      :  48% |####################                       | \remitting matrix      :  49% |#####################                      | \remitting matrix      :  50% |#####################                      | \remitting matrix      :  51% |#####################                      | \remitting matrix      :  52% |######################                     | \remitting matrix      :  53% |######################                     | \remitting matrix      :  54% |#######################                    | \remitting matrix      :  55% |#######################                    | \remitting matrix      :  56% |########################                   | \remitting matrix      :  57% |########################                   | \remitting matrix      :  58% |########################                   | \remitting matrix      :  59% |#########################                  | \remitting matrix      :  60% |#########################                  | \remitting matrix      :  61% |##########################                 | \remitting matrix      :  62% |##########################                 | \remitting matrix      :  63% |###########################                | \remitting matrix      :  64% |###########################                | \remitting matrix      :  65% |###########################                | \remitting matrix      :  66% |############################               | \remitting matrix      :  67% |############################               | \remitting matrix      :  68% |#############################              | \remitting matrix      :  69% |#############################              | \remitting matrix      :  70% |##############################             | \remitting matrix      :  71% |##############################             | \remitting matrix      :  72% |##############################             | \remitting matrix      :  73% |###############################            | \remitting matrix      :  74% |###############################            | \remitting matrix      :  75% |################################           | \remitting matrix      :  76% |################################           | \remitting matrix      :  77% |#################################          | \remitting matrix      :  78% |#################################          | \remitting matrix      :  79% |#################################          | \remitting matrix      :  80% |##################################         | \remitting matrix      :  81% |##################################         | \remitting matrix      :  82% |###################################        | \remitting matrix      :  83% |###################################        | \remitting matrix      :  84% |####################################       | \remitting matrix      :  85% |####################################       | \remitting matrix      :  86% |####################################       | \remitting matrix      :  87% |#####################################      | \remitting matrix      :  88% |#####################################      | \remitting matrix      :  89% |######################################     | \remitting matrix      :  90% |######################################     | \remitting matrix      :  91% |#######################################    | \remitting matrix      :  92% |#######################################    | \remitting matrix      :  93% |#######################################    | \remitting matrix      :  94% |########################################   | \remitting matrix      :  95% |########################################   | \remitting matrix      :  96% |#########################################  | \remitting matrix      :  97% |#########################################  | \remitting matrix      :  98% |########################################## | \remitting matrix      :  99% |########################################## | \remitting matrix      : 100% |###########################################| \r\n",
            "\r\n",
            "done!\r\n",
            "Setting up mecab-jumandic (7.0-20130310-4) ...\r\n",
            "Processing triggers for man-db (2.8.3-2ubuntu0.1) ...\r\n",
            "Processing triggers for libc-bin (2.27-3ubuntu1) ...\r\n",
            "/sbin/ldconfig.real: /usr/local/lib/python3.6/dist-packages/ideep4py/lib/libmkldnn.so.0 is not a symbolic link\r\n",
            "\r\n",
            "Collecting mecab-python3\n",
            "  Downloading https://files.pythonhosted.org/packages/bf/c5/acaa5eeb3f61a98cf31d8aacbbbf23f3e1c9eadfe6e2d508add82e7e9039/mecab_python3-0.996.3-cp36-cp36m-manylinux2010_x86_64.whl (17.1MB)\n",
            "Installing collected packages: mecab-python3\n",
            "Successfully installed mecab-python3-0.996.3\n"
          ],
          "name": "stdout"
        },
        {
          "output_type": "stream",
          "text": [
            "\n",
            "WARNING: apt does not have a stable CLI interface. Use with caution in scripts.\n",
            "\n"
          ],
          "name": "stderr"
        }
      ]
    },
    {
      "cell_type": "markdown",
      "metadata": {
        "id": "QWzFFdQKsUb7",
        "colab_type": "text"
      },
      "source": [
        "### mecab-ipadic-NEologdの導入\n",
        "[mecab-ipadic-NEologd](https://github.com/neologd/mecab-ipadic-neologd/blob/master/README.ja.md)<br>\n",
        "MeCabの標準のシステム辞書を使用した形態素解析では，辞書の語彙不足に起因した正しく分割できない固有表現などが存在するため，多数のWeb嬢の言語資源から得た新語を追加したmecab-ipadic-NEologdを使用する．"
      ]
    },
    {
      "cell_type": "code",
      "metadata": {
        "id": "FTu5L6sDoQ8n",
        "colab_type": "code",
        "outputId": "2a0d95b6-88a6-4fa6-abf4-e3a0d4fa800a",
        "colab": {
          "base_uri": "https://localhost:8080/",
          "height": 1000
        }
      },
      "source": [
        "%%bash\n",
        "apt install file\n",
        "git clone --depth 1 https://github.com/neologd/mecab-ipadic-neologd.git\n",
        "cd mecab-ipadic-neologd && ./bin/install-mecab-ipadic-neologd -n -a -y"
      ],
      "execution_count": 2,
      "outputs": [
        {
          "output_type": "stream",
          "text": [
            "Reading package lists...\n",
            "Building dependency tree...\n",
            "Reading state information...\n",
            "The following package was automatically installed and is no longer required:\n",
            "  libnvidia-common-430\n",
            "Use 'apt autoremove' to remove it.\n",
            "The following additional packages will be installed:\n",
            "  libmagic-mgc libmagic1\n",
            "The following NEW packages will be installed:\n",
            "  file libmagic-mgc libmagic1\n",
            "0 upgraded, 3 newly installed, 0 to remove and 16 not upgraded.\n",
            "Need to get 275 kB of archives.\n",
            "After this operation, 5,294 kB of additional disk space will be used.\n",
            "Get:1 http://archive.ubuntu.com/ubuntu bionic-updates/main amd64 libmagic-mgc amd64 1:5.32-2ubuntu0.3 [184 kB]\n",
            "Get:2 http://archive.ubuntu.com/ubuntu bionic-updates/main amd64 libmagic1 amd64 1:5.32-2ubuntu0.3 [68.7 kB]\n",
            "Get:3 http://archive.ubuntu.com/ubuntu bionic-updates/main amd64 file amd64 1:5.32-2ubuntu0.3 [22.1 kB]\n",
            "Fetched 275 kB in 1s (434 kB/s)\n",
            "Selecting previously unselected package libmagic-mgc.\r\n",
            "(Reading database ... \r(Reading database ... 5%\r(Reading database ... 10%\r(Reading database ... 15%\r(Reading database ... 20%\r(Reading database ... 25%\r(Reading database ... 30%\r(Reading database ... 35%\r(Reading database ... 40%\r(Reading database ... 45%\r(Reading database ... 50%\r(Reading database ... 55%\r(Reading database ... 60%\r(Reading database ... 65%\r(Reading database ... 70%\r(Reading database ... 75%\r(Reading database ... 80%\r(Reading database ... 85%\r(Reading database ... 90%\r(Reading database ... 95%\r(Reading database ... 100%\r(Reading database ... 134663 files and directories currently installed.)\r\n",
            "Preparing to unpack .../libmagic-mgc_1%3a5.32-2ubuntu0.3_amd64.deb ...\r\n",
            "Unpacking libmagic-mgc (1:5.32-2ubuntu0.3) ...\r\n",
            "Selecting previously unselected package libmagic1:amd64.\r\n",
            "Preparing to unpack .../libmagic1_1%3a5.32-2ubuntu0.3_amd64.deb ...\r\n",
            "Unpacking libmagic1:amd64 (1:5.32-2ubuntu0.3) ...\r\n",
            "Selecting previously unselected package file.\r\n",
            "Preparing to unpack .../file_1%3a5.32-2ubuntu0.3_amd64.deb ...\r\n",
            "Unpacking file (1:5.32-2ubuntu0.3) ...\r\n",
            "Setting up libmagic-mgc (1:5.32-2ubuntu0.3) ...\r\n",
            "Setting up libmagic1:amd64 (1:5.32-2ubuntu0.3) ...\r\n",
            "Setting up file (1:5.32-2ubuntu0.3) ...\r\n",
            "Processing triggers for man-db (2.8.3-2ubuntu0.1) ...\r\n",
            "Processing triggers for libc-bin (2.27-3ubuntu1) ...\r\n",
            "/sbin/ldconfig.real: /usr/local/lib/python3.6/dist-packages/ideep4py/lib/libmkldnn.so.0 is not a symbolic link\r\n",
            "\r\n",
            "[install-mecab-ipadic-NEologd] : Start..\n",
            "[install-mecab-ipadic-NEologd] : Check the existance of libraries\n",
            "[install-mecab-ipadic-NEologd] :     find => ok\n",
            "[install-mecab-ipadic-NEologd] :     sort => ok\n",
            "[install-mecab-ipadic-NEologd] :     head => ok\n",
            "[install-mecab-ipadic-NEologd] :     cut => ok\n",
            "[install-mecab-ipadic-NEologd] :     egrep => ok\n",
            "[install-mecab-ipadic-NEologd] :     mecab => ok\n",
            "[install-mecab-ipadic-NEologd] :     mecab-config => ok\n",
            "[install-mecab-ipadic-NEologd] :     make => ok\n",
            "[install-mecab-ipadic-NEologd] :     curl => ok\n",
            "[install-mecab-ipadic-NEologd] :     sed => ok\n",
            "[install-mecab-ipadic-NEologd] :     cat => ok\n",
            "[install-mecab-ipadic-NEologd] :     diff => ok\n",
            "[install-mecab-ipadic-NEologd] :     tar => ok\n",
            "[install-mecab-ipadic-NEologd] :     unxz => ok\n",
            "[install-mecab-ipadic-NEologd] :     xargs => ok\n",
            "[install-mecab-ipadic-NEologd] :     grep => ok\n",
            "[install-mecab-ipadic-NEologd] :     iconv => ok\n",
            "[install-mecab-ipadic-NEologd] :     patch => ok\n",
            "[install-mecab-ipadic-NEologd] :     which => ok\n",
            "[install-mecab-ipadic-NEologd] :     file => ok\n",
            "[install-mecab-ipadic-NEologd] :     openssl => ok\n",
            "[install-mecab-ipadic-NEologd] :     awk => ok\n",
            "\n",
            "[install-mecab-ipadic-NEologd] : mecab-ipadic-NEologd is already up-to-date\n",
            "\n",
            "[install-mecab-ipadic-NEologd] : mecab-ipadic-NEologd will be install to /usr/lib/x86_64-linux-gnu/mecab/dic/mecab-ipadic-neologd\n",
            "\n",
            "[install-mecab-ipadic-NEologd] : Make mecab-ipadic-NEologd\n",
            "[make-mecab-ipadic-NEologd] : Start..\n",
            "[make-mecab-ipadic-NEologd] : Check local seed directory\n",
            "[make-mecab-ipadic-NEologd] : Check local seed file\n",
            "[make-mecab-ipadic-NEologd] : Check local build directory\n",
            "[make-mecab-ipadic-NEologd] : create /content/mecab-ipadic-neologd/libexec/../build\n",
            "[make-mecab-ipadic-NEologd] : Download original mecab-ipadic file\n",
            "[make-mecab-ipadic-NEologd] : Try to access to https://ja.osdn.net\n",
            "[make-mecab-ipadic-NEologd] : Try to download from https://ja.osdn.net/frs/g_redir.php?m=kent&f=mecab%2Fmecab-ipadic%2F2.7.0-20070801%2Fmecab-ipadic-2.7.0-20070801.tar.gz\n",
            "Hash value of /content/mecab-ipadic-neologd/libexec/../build/mecab-ipadic-2.7.0-20070801.tar.gz matched\n",
            "[make-mecab-ipadic-NEologd] : Decompress original mecab-ipadic file\n",
            "mecab-ipadic-2.7.0-20070801/\n",
            "mecab-ipadic-2.7.0-20070801/README\n",
            "mecab-ipadic-2.7.0-20070801/AUTHORS\n",
            "mecab-ipadic-2.7.0-20070801/COPYING\n",
            "mecab-ipadic-2.7.0-20070801/ChangeLog\n",
            "mecab-ipadic-2.7.0-20070801/INSTALL\n",
            "mecab-ipadic-2.7.0-20070801/Makefile.am\n",
            "mecab-ipadic-2.7.0-20070801/Makefile.in\n",
            "mecab-ipadic-2.7.0-20070801/NEWS\n",
            "mecab-ipadic-2.7.0-20070801/aclocal.m4\n",
            "mecab-ipadic-2.7.0-20070801/config.guess\n",
            "mecab-ipadic-2.7.0-20070801/config.sub\n",
            "mecab-ipadic-2.7.0-20070801/configure\n",
            "mecab-ipadic-2.7.0-20070801/configure.in\n",
            "mecab-ipadic-2.7.0-20070801/install-sh\n",
            "mecab-ipadic-2.7.0-20070801/missing\n",
            "mecab-ipadic-2.7.0-20070801/mkinstalldirs\n",
            "mecab-ipadic-2.7.0-20070801/Adj.csv\n",
            "mecab-ipadic-2.7.0-20070801/Adnominal.csv\n",
            "mecab-ipadic-2.7.0-20070801/Adverb.csv\n",
            "mecab-ipadic-2.7.0-20070801/Auxil.csv\n",
            "mecab-ipadic-2.7.0-20070801/Conjunction.csv\n",
            "mecab-ipadic-2.7.0-20070801/Filler.csv\n",
            "mecab-ipadic-2.7.0-20070801/Interjection.csv\n",
            "mecab-ipadic-2.7.0-20070801/Noun.adjv.csv\n",
            "mecab-ipadic-2.7.0-20070801/Noun.adverbal.csv\n",
            "mecab-ipadic-2.7.0-20070801/Noun.csv\n",
            "mecab-ipadic-2.7.0-20070801/Noun.demonst.csv\n",
            "mecab-ipadic-2.7.0-20070801/Noun.nai.csv\n",
            "mecab-ipadic-2.7.0-20070801/Noun.name.csv\n",
            "mecab-ipadic-2.7.0-20070801/Noun.number.csv\n",
            "mecab-ipadic-2.7.0-20070801/Noun.org.csv\n",
            "mecab-ipadic-2.7.0-20070801/Noun.others.csv\n",
            "mecab-ipadic-2.7.0-20070801/Noun.place.csv\n",
            "mecab-ipadic-2.7.0-20070801/Noun.proper.csv\n",
            "mecab-ipadic-2.7.0-20070801/Noun.verbal.csv\n",
            "mecab-ipadic-2.7.0-20070801/Others.csv\n",
            "mecab-ipadic-2.7.0-20070801/Postp-col.csv\n",
            "mecab-ipadic-2.7.0-20070801/Postp.csv\n",
            "mecab-ipadic-2.7.0-20070801/Prefix.csv\n",
            "mecab-ipadic-2.7.0-20070801/Suffix.csv\n",
            "mecab-ipadic-2.7.0-20070801/Symbol.csv\n",
            "mecab-ipadic-2.7.0-20070801/Verb.csv\n",
            "mecab-ipadic-2.7.0-20070801/char.def\n",
            "mecab-ipadic-2.7.0-20070801/feature.def\n",
            "mecab-ipadic-2.7.0-20070801/left-id.def\n",
            "mecab-ipadic-2.7.0-20070801/matrix.def\n",
            "mecab-ipadic-2.7.0-20070801/pos-id.def\n",
            "mecab-ipadic-2.7.0-20070801/rewrite.def\n",
            "mecab-ipadic-2.7.0-20070801/right-id.def\n",
            "mecab-ipadic-2.7.0-20070801/unk.def\n",
            "mecab-ipadic-2.7.0-20070801/dicrc\n",
            "mecab-ipadic-2.7.0-20070801/RESULT\n",
            "[make-mecab-ipadic-NEologd] : Configure custom system dictionary on /content/mecab-ipadic-neologd/libexec/../build/mecab-ipadic-2.7.0-20070801-neologd-20200123\n",
            "checking for a BSD-compatible install... /usr/bin/install -c\n",
            "checking whether build environment is sane... yes\n",
            "checking whether make sets $(MAKE)... yes\n",
            "checking for working aclocal-1.4... missing\n",
            "checking for working autoconf... missing\n",
            "checking for working automake-1.4... missing\n",
            "checking for working autoheader... missing\n",
            "checking for working makeinfo... missing\n",
            "checking for a BSD-compatible install... /usr/bin/install -c\n",
            "checking for mecab-config... /usr/bin/mecab-config\n",
            "configure: creating ./config.status\n",
            "config.status: creating Makefile\n",
            "[make-mecab-ipadic-NEologd] : Encode the character encoding of system dictionary resources from EUC_JP to UTF-8\n",
            "[make-mecab-ipadic-NEologd] : Fix yomigana field of IPA dictionary\n",
            "patching file Noun.csv\n",
            "patching file Noun.place.csv\n",
            "patching file Verb.csv\n",
            "patching file Noun.verbal.csv\n",
            "patching file Noun.name.csv\n",
            "patching file Noun.adverbal.csv\n",
            "patching file Noun.csv\n",
            "patching file Noun.name.csv\n",
            "patching file Noun.org.csv\n",
            "patching file Noun.others.csv\n",
            "patching file Noun.place.csv\n",
            "patching file Noun.proper.csv\n",
            "patching file Noun.verbal.csv\n",
            "patching file Prefix.csv\n",
            "patching file Suffix.csv\n",
            "patching file Noun.proper.csv\n",
            "patching file Noun.csv\n",
            "patching file Noun.name.csv\n",
            "patching file Noun.org.csv\n",
            "patching file Noun.place.csv\n",
            "patching file Noun.proper.csv\n",
            "patching file Noun.verbal.csv\n",
            "patching file Noun.name.csv\n",
            "patching file Noun.org.csv\n",
            "patching file Noun.place.csv\n",
            "patching file Noun.proper.csv\n",
            "patching file Suffix.csv\n",
            "patching file Noun.demonst.csv\n",
            "patching file Noun.csv\n",
            "patching file Noun.name.csv\n",
            "[make-mecab-ipadic-NEologd] : Copy user dictionary resource\n",
            "[make-mecab-ipadic-NEologd] : Install adverb entries using /content/mecab-ipadic-neologd/libexec/../seed/neologd-adverb-dict-seed.20150623.csv.xz\n",
            "[make-mecab-ipadic-NEologd] : Install interjection entries using /content/mecab-ipadic-neologd/libexec/../seed/neologd-interjection-dict-seed.20170216.csv.xz\n",
            "[make-mecab-ipadic-NEologd] : Install noun orthographic variant entries using /content/mecab-ipadic-neologd/libexec/../seed/neologd-common-noun-ortho-variant-dict-seed.20170228.csv.xz\n",
            "[make-mecab-ipadic-NEologd] : Install noun orthographic variant entries using /content/mecab-ipadic-neologd/libexec/../seed/neologd-proper-noun-ortho-variant-dict-seed.20161110.csv.xz\n",
            "[make-mecab-ipadic-NEologd] : Install entries of orthographic variant of a noun used as verb form using /content/mecab-ipadic-neologd/libexec/../seed/neologd-noun-sahen-conn-ortho-variant-dict-seed.20160323.csv.xz\n",
            "[make-mecab-ipadic-NEologd] : Install frequent adjective orthographic variant entries using /content/mecab-ipadic-neologd/libexec/../seed/neologd-adjective-std-dict-seed.20151126.csv.xz\n",
            "[make-mecab-ipadic-NEologd] : Install infrequent adjective orthographic variant entries using /content/mecab-ipadic-neologd/libexec/../seed/neologd-adjective-exp-dict-seed.20151126.csv.xz\n",
            "[make-mecab-ipadic-NEologd] : Install adjective verb orthographic variant entries using /content/mecab-ipadic-neologd/libexec/../seed/neologd-adjective-verb-dict-seed.20160324.csv.xz\n",
            "[make-mecab-ipadic-NEologd] : Install infrequent datetime representation entries using /content/mecab-ipadic-neologd/libexec/../seed/neologd-date-time-infreq-dict-seed.20190415.csv.xz\n",
            "[make-mecab-ipadic-NEologd] : Install infrequent quantity representation entries using /content/mecab-ipadic-neologd/libexec/../seed/neologd-quantity-infreq-dict-seed.20190415.csv.xz\n",
            "[make-mecab-ipadic-NEologd] : Install entries of ill formed words using /content/mecab-ipadic-neologd/libexec/../seed/neologd-ill-formed-words-dict-seed.20170127.csv.xz\n",
            "[make-mecab-ipadic-NEologd] : Re-Index system dictionary\n",
            "reading ./unk.def ... 40\n",
            "emitting double-array:   9% |###                                        | \remitting double-array:  18% |#######                                    | \remitting double-array:  27% |###########                                | \remitting double-array:  36% |###############                            | \remitting double-array:  45% |###################                        | \remitting double-array:  54% |#######################                    | \remitting double-array:  63% |###########################                | \remitting double-array:  72% |###############################            | \remitting double-array:  81% |###################################        | \remitting double-array:  90% |#######################################    | \remitting double-array: 100% |###########################################| \n",
            "./model.def is not found. skipped.\n",
            "reading ./Noun.demonst.csv ... 120\n",
            "reading ./Noun.nai.csv ... 42\n",
            "reading ./neologd-adjective-exp-dict-seed.20151126.csv ... 1051146\n",
            "reading ./neologd-date-time-infreq-dict-seed.20190415.csv ... 16866\n",
            "reading ./neologd-quantity-infreq-dict-seed.20190415.csv ... 229216\n",
            "reading ./Noun.proper.csv ... 27493\n",
            "reading ./Interjection.csv ... 252\n",
            "reading ./Noun.adverbal.csv ... 808\n",
            "reading ./Noun.place.csv ... 73194\n",
            "reading ./Prefix.csv ... 224\n",
            "reading ./neologd-adjective-verb-dict-seed.20160324.csv ... 20268\n",
            "reading ./Adverb.csv ... 3032\n",
            "reading ./neologd-interjection-dict-seed.20170216.csv ... 4701\n",
            "reading ./Noun.number.csv ... 42\n",
            "reading ./neologd-proper-noun-ortho-variant-dict-seed.20161110.csv ... 138379\n",
            "reading ./Noun.adjv.csv ... 3328\n",
            "reading ./mecab-user-dict-seed.20200123.csv ... 3180263\n",
            "reading ./neologd-common-noun-ortho-variant-dict-seed.20170228.csv ... 152869\n",
            "reading ./Adnominal.csv ... 135\n",
            "reading ./Conjunction.csv ... 171\n",
            "reading ./Symbol.csv ... 208\n",
            "reading ./Filler.csv ... 19\n",
            "reading ./Noun.csv ... 60734\n",
            "reading ./Others.csv ... 2\n",
            "reading ./Postp.csv ... 146\n",
            "reading ./Adj.csv ... 27210\n",
            "reading ./Noun.org.csv ... 17149\n",
            "reading ./Noun.verbal.csv ... 12150\n",
            "reading ./Auxil.csv ... 199\n",
            "reading ./Suffix.csv ... 1448\n",
            "reading ./neologd-ill-formed-words-dict-seed.20170127.csv ... 60616\n",
            "reading ./neologd-noun-sahen-conn-ortho-variant-dict-seed.20160323.csv ... 26058\n",
            "reading ./neologd-adverb-dict-seed.20150623.csv ... 139792\n",
            "reading ./neologd-adjective-std-dict-seed.20151126.csv ... 507812\n",
            "reading ./Noun.name.csv ... 34215\n",
            "reading ./Postp-col.csv ... 91\n",
            "reading ./Noun.others.csv ... 153\n",
            "reading ./Verb.csv ... 130750\n",
            "emitting double-array:   0% |                                           | \remitting double-array:   1% |                                           | \remitting double-array:   2% |                                           | \remitting double-array:   3% |#                                          | \remitting double-array:   4% |#                                          | \remitting double-array:   5% |##                                         | \remitting double-array:   6% |##                                         | \remitting double-array:   7% |###                                        | \remitting double-array:   8% |###                                        | \remitting double-array:   9% |###                                        | \remitting double-array:  10% |####                                       | \remitting double-array:  11% |####                                       | \remitting double-array:  12% |#####                                      | \remitting double-array:  13% |#####                                      | \remitting double-array:  14% |######                                     | \remitting double-array:  15% |######                                     | \remitting double-array:  16% |######                                     | \remitting double-array:  17% |#######                                    | \remitting double-array:  18% |#######                                    | \remitting double-array:  19% |########                                   | \remitting double-array:  20% |########                                   | \remitting double-array:  21% |#########                                  | \remitting double-array:  22% |#########                                  | \remitting double-array:  23% |#########                                  | \remitting double-array:  24% |##########                                 | \remitting double-array:  25% |##########                                 | \remitting double-array:  26% |###########                                | \remitting double-array:  27% |###########                                | \remitting double-array:  28% |############                               | \remitting double-array:  29% |############                               | \remitting double-array:  30% |############                               | \remitting double-array:  31% |#############                              | \remitting double-array:  32% |#############                              | \remitting double-array:  33% |##############                             | \remitting double-array:  34% |##############                             | \remitting double-array:  35% |###############                            | \remitting double-array:  36% |###############                            | \remitting double-array:  37% |###############                            | \remitting double-array:  38% |################                           | \remitting double-array:  39% |################                           | \remitting double-array:  40% |#################                          | \remitting double-array:  41% |#################                          | \remitting double-array:  42% |##################                         | \remitting double-array:  43% |##################                         | \remitting double-array:  44% |##################                         | \remitting double-array:  45% |###################                        | \remitting double-array:  46% |###################                        | \remitting double-array:  47% |####################                       | \remitting double-array:  48% |####################                       | \remitting double-array:  49% |#####################                      | \remitting double-array:  50% |#####################                      | \remitting double-array:  51% |#####################                      | \remitting double-array:  52% |######################                     | \remitting double-array:  53% |######################                     | \remitting double-array:  54% |#######################                    | \remitting double-array:  55% |#######################                    | \remitting double-array:  56% |########################                   | \remitting double-array:  57% |########################                   | \remitting double-array:  58% |########################                   | \remitting double-array:  59% |#########################                  | \remitting double-array:  60% |#########################                  | \remitting double-array:  61% |##########################                 | \remitting double-array:  62% |##########################                 | \remitting double-array:  63% |###########################                | \remitting double-array:  64% |###########################                | \remitting double-array:  65% |###########################                | \remitting double-array:  66% |############################               | \remitting double-array:  67% |############################               | \remitting double-array:  68% |#############################              | \remitting double-array:  69% |#############################              | \remitting double-array:  70% |##############################             | \remitting double-array:  71% |##############################             | \remitting double-array:  72% |##############################             | \remitting double-array:  73% |###############################            | \remitting double-array:  74% |###############################            | \remitting double-array:  75% |################################           | \remitting double-array:  76% |################################           | \remitting double-array:  77% |#################################          | \remitting double-array:  78% |#################################          | \remitting double-array:  79% |#################################          | \remitting double-array:  80% |##################################         | \remitting double-array:  81% |##################################         | \remitting double-array:  82% |###################################        | \remitting double-array:  83% |###################################        | \remitting double-array:  84% |####################################       | \remitting double-array:  85% |####################################       | \remitting double-array:  86% |####################################       | \remitting double-array:  87% |#####################################      | \remitting double-array:  88% |#####################################      | \remitting double-array:  89% |######################################     | \remitting double-array:  90% |######################################     | \remitting double-array:  91% |#######################################    | \remitting double-array:  92% |#######################################    | \remitting double-array:  93% |#######################################    | \remitting double-array:  94% |########################################   | \remitting double-array:  95% |########################################   | \remitting double-array:  96% |#########################################  | \remitting double-array:  97% |#########################################  | \remitting double-array:  98% |########################################## | \remitting double-array:  99% |########################################## | \remitting double-array: 100% |###########################################| \n",
            "reading ./matrix.def ... 1316x1316\n",
            "emitting matrix      :   0% |                                           | \remitting matrix      :   1% |                                           | \remitting matrix      :   2% |                                           | \remitting matrix      :   3% |#                                          | \remitting matrix      :   4% |#                                          | \remitting matrix      :   5% |##                                         | \remitting matrix      :   6% |##                                         | \remitting matrix      :   7% |###                                        | \remitting matrix      :   8% |###                                        | \remitting matrix      :   9% |###                                        | \remitting matrix      :  10% |####                                       | \remitting matrix      :  11% |####                                       | \remitting matrix      :  12% |#####                                      | \remitting matrix      :  13% |#####                                      | \remitting matrix      :  14% |######                                     | \remitting matrix      :  15% |######                                     | \remitting matrix      :  16% |######                                     | \remitting matrix      :  17% |#######                                    | \remitting matrix      :  18% |#######                                    | \remitting matrix      :  19% |########                                   | \remitting matrix      :  20% |########                                   | \remitting matrix      :  21% |#########                                  | \remitting matrix      :  22% |#########                                  | \remitting matrix      :  23% |#########                                  | \remitting matrix      :  24% |##########                                 | \remitting matrix      :  25% |##########                                 | \remitting matrix      :  26% |###########                                | \remitting matrix      :  27% |###########                                | \remitting matrix      :  28% |############                               | \remitting matrix      :  29% |############                               | \remitting matrix      :  30% |############                               | \remitting matrix      :  31% |#############                              | \remitting matrix      :  32% |#############                              | \remitting matrix      :  33% |##############                             | \remitting matrix      :  34% |##############                             | \remitting matrix      :  35% |###############                            | \remitting matrix      :  36% |###############                            | \remitting matrix      :  37% |###############                            | \remitting matrix      :  38% |################                           | \remitting matrix      :  39% |################                           | \remitting matrix      :  40% |#################                          | \remitting matrix      :  41% |#################                          | \remitting matrix      :  42% |##################                         | \remitting matrix      :  43% |##################                         | \remitting matrix      :  44% |##################                         | \remitting matrix      :  45% |###################                        | \remitting matrix      :  46% |###################                        | \remitting matrix      :  47% |####################                       | \remitting matrix      :  48% |####################                       | \remitting matrix      :  49% |#####################                      | \remitting matrix      :  50% |#####################                      | \remitting matrix      :  51% |#####################                      | \remitting matrix      :  52% |######################                     | \remitting matrix      :  53% |######################                     | \remitting matrix      :  54% |#######################                    | \remitting matrix      :  55% |#######################                    | \remitting matrix      :  56% |########################                   | \remitting matrix      :  57% |########################                   | \remitting matrix      :  58% |########################                   | \remitting matrix      :  59% |#########################                  | \remitting matrix      :  60% |#########################                  | \remitting matrix      :  61% |##########################                 | \remitting matrix      :  62% |##########################                 | \remitting matrix      :  63% |###########################                | \remitting matrix      :  64% |###########################                | \remitting matrix      :  65% |###########################                | \remitting matrix      :  66% |############################               | \remitting matrix      :  67% |############################               | \remitting matrix      :  68% |#############################              | \remitting matrix      :  69% |#############################              | \remitting matrix      :  70% |##############################             | \remitting matrix      :  71% |##############################             | \remitting matrix      :  72% |##############################             | \remitting matrix      :  73% |###############################            | \remitting matrix      :  74% |###############################            | \remitting matrix      :  75% |################################           | \remitting matrix      :  76% |################################           | \remitting matrix      :  77% |#################################          | \remitting matrix      :  78% |#################################          | \remitting matrix      :  79% |#################################          | \remitting matrix      :  80% |##################################         | \remitting matrix      :  81% |##################################         | \remitting matrix      :  82% |###################################        | \remitting matrix      :  83% |###################################        | \remitting matrix      :  84% |####################################       | \remitting matrix      :  85% |####################################       | \remitting matrix      :  86% |####################################       | \remitting matrix      :  87% |#####################################      | \remitting matrix      :  88% |#####################################      | \remitting matrix      :  89% |######################################     | \remitting matrix      :  90% |######################################     | \remitting matrix      :  91% |#######################################    | \remitting matrix      :  92% |#######################################    | \remitting matrix      :  93% |#######################################    | \remitting matrix      :  94% |########################################   | \remitting matrix      :  95% |########################################   | \remitting matrix      :  96% |#########################################  | \remitting matrix      :  97% |#########################################  | \remitting matrix      :  98% |########################################## | \remitting matrix      :  99% |########################################## | \remitting matrix      : 100% |###########################################| \n",
            "\n",
            "done!\n",
            "[make-mecab-ipadic-NEologd] : Make custom system dictionary on /content/mecab-ipadic-neologd/libexec/../build/mecab-ipadic-2.7.0-20070801-neologd-20200123\n",
            "make: Nothing to be done for 'all'.\n",
            "[make-mecab-ipadic-NEologd] : Finish..\n",
            "[install-mecab-ipadic-NEologd] : OK. Let's install mecab-ipadic-NEologd.\n",
            "[install-mecab-ipadic-NEologd] : Start..\n",
            "[install-mecab-ipadic-NEologd] : /usr/lib/x86_64-linux-gnu/mecab/dic isn't current user's directory\n",
            "[install-mecab-ipadic-NEologd] : Sudo make install to /usr/lib/x86_64-linux-gnu/mecab/dic/mecab-ipadic-neologd\n",
            "make[1]: Entering directory '/content/mecab-ipadic-neologd/build/mecab-ipadic-2.7.0-20070801-neologd-20200123'\n",
            "make[1]: Nothing to be done for 'install-exec-am'.\n",
            "/bin/bash ./mkinstalldirs /usr/lib/x86_64-linux-gnu/mecab/dic/mecab-ipadic-neologd\n",
            "mkdir /usr/lib/x86_64-linux-gnu/mecab\n",
            "mkdir /usr/lib/x86_64-linux-gnu/mecab/dic\n",
            "mkdir /usr/lib/x86_64-linux-gnu/mecab/dic/mecab-ipadic-neologd\n",
            " /usr/bin/install -c -m 644 ./matrix.bin /usr/lib/x86_64-linux-gnu/mecab/dic/mecab-ipadic-neologd/matrix.bin\n",
            " /usr/bin/install -c -m 644 ./char.bin /usr/lib/x86_64-linux-gnu/mecab/dic/mecab-ipadic-neologd/char.bin\n",
            " /usr/bin/install -c -m 644 ./sys.dic /usr/lib/x86_64-linux-gnu/mecab/dic/mecab-ipadic-neologd/sys.dic\n",
            " /usr/bin/install -c -m 644 ./unk.dic /usr/lib/x86_64-linux-gnu/mecab/dic/mecab-ipadic-neologd/unk.dic\n",
            " /usr/bin/install -c -m 644 ./left-id.def /usr/lib/x86_64-linux-gnu/mecab/dic/mecab-ipadic-neologd/left-id.def\n",
            " /usr/bin/install -c -m 644 ./right-id.def /usr/lib/x86_64-linux-gnu/mecab/dic/mecab-ipadic-neologd/right-id.def\n",
            " /usr/bin/install -c -m 644 ./rewrite.def /usr/lib/x86_64-linux-gnu/mecab/dic/mecab-ipadic-neologd/rewrite.def\n",
            " /usr/bin/install -c -m 644 ./pos-id.def /usr/lib/x86_64-linux-gnu/mecab/dic/mecab-ipadic-neologd/pos-id.def\n",
            " /usr/bin/install -c -m 644 ./dicrc /usr/lib/x86_64-linux-gnu/mecab/dic/mecab-ipadic-neologd/dicrc\n",
            "make[1]: Leaving directory '/content/mecab-ipadic-neologd/build/mecab-ipadic-2.7.0-20070801-neologd-20200123'\n",
            "\n",
            "[install-mecab-ipadic-NEologd] : Install completed.\n",
            "[install-mecab-ipadic-NEologd] : When you use MeCab, you can set '/usr/lib/x86_64-linux-gnu/mecab/dic/mecab-ipadic-neologd' as a value of '-d' option of MeCab.\n",
            "[install-mecab-ipadic-NEologd] : Usage of mecab-ipadic-NEologd is here.\n",
            "Usage:\n",
            "    $ mecab -d /usr/lib/x86_64-linux-gnu/mecab/dic/mecab-ipadic-neologd ...\n",
            "\n",
            "[install-mecab-ipadic-NEologd] : Finish..\n",
            "[install-mecab-ipadic-NEologd] : Finish..\n"
          ],
          "name": "stdout"
        },
        {
          "output_type": "stream",
          "text": [
            "\n",
            "WARNING: apt does not have a stable CLI interface. Use with caution in scripts.\n",
            "\n",
            "Cloning into 'mecab-ipadic-neologd'...\n",
            "  % Total    % Received % Xferd  Average Speed   Time    Time     Time  Current\n",
            "                                 Dload  Upload   Total   Spent    Left  Speed\n",
            "\r  0     0    0     0    0     0      0      0 --:--:-- --:--:-- --:--:--     0\r  0     0    0     0    0     0      0      0 --:--:-- --:--:-- --:--:--     0\r  0     0    0     0    0     0      0      0 --:--:-- --:--:-- --:--:--     0\n",
            "\r  0 11.6M    0 75037    0     0  49594      0  0:04:06  0:00:01  0:04:05 49594\r  2 11.6M    2  303k    0     0   121k      0  0:01:38  0:00:02  0:01:36  232k\r  5 11.6M    5  633k    0     0   181k      0  0:01:05  0:00:03  0:01:02  282k\r  8 11.6M    8  992k    0     0   221k      0  0:00:53  0:00:04  0:00:49  308k\r 13 11.6M   13 1668k    0     0   304k      0  0:00:39  0:00:05  0:00:34  401k\r 23 11.6M   23 2770k    0     0   427k      0  0:00:27  0:00:06  0:00:21  543k\r 40 11.6M   40 4851k    0     0   649k      0  0:00:18  0:00:07  0:00:11  916k\r 73 11.6M   73 8717k    0     0  1030k      0  0:00:11  0:00:08  0:00:03 1628k\r100 11.6M  100 11.6M    0     0  1330k      0  0:00:08  0:00:08 --:--:-- 2445k\n",
            "./../../libexec/iconv_euc_to_utf8.sh ./Noun.demonst.csv \n",
            "./../../libexec/iconv_euc_to_utf8.sh ./Noun.nai.csv \n",
            "./../../libexec/iconv_euc_to_utf8.sh ./Noun.proper.csv \n",
            "./../../libexec/iconv_euc_to_utf8.sh ./Interjection.csv \n",
            "./../../libexec/iconv_euc_to_utf8.sh ./Noun.adverbal.csv \n",
            "./../../libexec/iconv_euc_to_utf8.sh ./Noun.place.csv \n",
            "./../../libexec/iconv_euc_to_utf8.sh ./Prefix.csv \n",
            "./../../libexec/iconv_euc_to_utf8.sh ./Adverb.csv \n",
            "./../../libexec/iconv_euc_to_utf8.sh ./Noun.number.csv \n",
            "./../../libexec/iconv_euc_to_utf8.sh ./Noun.adjv.csv \n",
            "./../../libexec/iconv_euc_to_utf8.sh ./Adnominal.csv \n",
            "./../../libexec/iconv_euc_to_utf8.sh ./Conjunction.csv \n",
            "./../../libexec/iconv_euc_to_utf8.sh ./Symbol.csv \n",
            "./../../libexec/iconv_euc_to_utf8.sh ./Filler.csv \n",
            "./../../libexec/iconv_euc_to_utf8.sh ./Noun.csv \n",
            "./../../libexec/iconv_euc_to_utf8.sh ./Others.csv \n",
            "./../../libexec/iconv_euc_to_utf8.sh ./Postp.csv \n",
            "./../../libexec/iconv_euc_to_utf8.sh ./Adj.csv \n",
            "./../../libexec/iconv_euc_to_utf8.sh ./Noun.org.csv \n",
            "./../../libexec/iconv_euc_to_utf8.sh ./Noun.verbal.csv \n",
            "./../../libexec/iconv_euc_to_utf8.sh ./Auxil.csv \n",
            "./../../libexec/iconv_euc_to_utf8.sh ./Suffix.csv \n",
            "./../../libexec/iconv_euc_to_utf8.sh ./Noun.name.csv \n",
            "./../../libexec/iconv_euc_to_utf8.sh ./Postp-col.csv \n",
            "./../../libexec/iconv_euc_to_utf8.sh ./Noun.others.csv \n",
            "./../../libexec/iconv_euc_to_utf8.sh ./Verb.csv \n",
            "rm ./Noun.demonst.csv \n",
            "rm ./Noun.nai.csv \n",
            "rm ./Noun.proper.csv \n",
            "rm ./Interjection.csv \n",
            "rm ./Noun.adverbal.csv \n",
            "rm ./Noun.place.csv \n",
            "rm ./Prefix.csv \n",
            "rm ./Adverb.csv \n",
            "rm ./Noun.number.csv \n",
            "rm ./Noun.adjv.csv \n",
            "rm ./Adnominal.csv \n",
            "rm ./Conjunction.csv \n",
            "rm ./Symbol.csv \n",
            "rm ./Filler.csv \n",
            "rm ./Noun.csv \n",
            "rm ./Others.csv \n",
            "rm ./Postp.csv \n",
            "rm ./Adj.csv \n",
            "rm ./Noun.org.csv \n",
            "rm ./Noun.verbal.csv \n",
            "rm ./Auxil.csv \n",
            "rm ./Suffix.csv \n",
            "rm ./Noun.name.csv \n",
            "rm ./Postp-col.csv \n",
            "rm ./Noun.others.csv \n",
            "rm ./Verb.csv \n",
            "./../../libexec/iconv_euc_to_utf8.sh ./rewrite.def \n",
            "./../../libexec/iconv_euc_to_utf8.sh ./unk.def \n",
            "./../../libexec/iconv_euc_to_utf8.sh ./left-id.def \n",
            "./../../libexec/iconv_euc_to_utf8.sh ./matrix.def \n",
            "./../../libexec/iconv_euc_to_utf8.sh ./feature.def \n",
            "./../../libexec/iconv_euc_to_utf8.sh ./right-id.def \n",
            "./../../libexec/iconv_euc_to_utf8.sh ./char.def \n",
            "./../../libexec/iconv_euc_to_utf8.sh ./pos-id.def \n",
            "rm ./rewrite.def \n",
            "rm ./unk.def \n",
            "rm ./left-id.def \n",
            "rm ./matrix.def \n",
            "rm ./feature.def \n",
            "rm ./right-id.def \n",
            "rm ./char.def \n",
            "rm ./pos-id.def \n",
            "mv ./Conjunction.csv.utf8 ./Conjunction.csv \n",
            "mv ./Suffix.csv.utf8 ./Suffix.csv \n",
            "mv ./Verb.csv.utf8 ./Verb.csv \n",
            "mv ./Noun.proper.csv.utf8 ./Noun.proper.csv \n",
            "mv ./Noun.number.csv.utf8 ./Noun.number.csv \n",
            "mv ./Noun.org.csv.utf8 ./Noun.org.csv \n",
            "mv ./Noun.demonst.csv.utf8 ./Noun.demonst.csv \n",
            "mv ./Noun.nai.csv.utf8 ./Noun.nai.csv \n",
            "mv ./Noun.name.csv.utf8 ./Noun.name.csv \n",
            "mv ./Postp.csv.utf8 ./Postp.csv \n",
            "mv ./Noun.adverbal.csv.utf8 ./Noun.adverbal.csv \n",
            "mv ./rewrite.def.utf8 ./rewrite.def \n",
            "mv ./unk.def.utf8 ./unk.def \n",
            "mv ./left-id.def.utf8 ./left-id.def \n",
            "mv ./right-id.def.utf8 ./right-id.def \n",
            "mv ./Adnominal.csv.utf8 ./Adnominal.csv \n",
            "mv ./Prefix.csv.utf8 ./Prefix.csv \n",
            "mv ./feature.def.utf8 ./feature.def \n",
            "mv ./Symbol.csv.utf8 ./Symbol.csv \n",
            "mv ./matrix.def.utf8 ./matrix.def \n",
            "mv ./Noun.csv.utf8 ./Noun.csv \n",
            "mv ./char.def.utf8 ./char.def \n",
            "mv ./Auxil.csv.utf8 ./Auxil.csv \n",
            "mv ./Others.csv.utf8 ./Others.csv \n",
            "mv ./pos-id.def.utf8 ./pos-id.def \n",
            "mv ./Interjection.csv.utf8 ./Interjection.csv \n",
            "mv ./Adverb.csv.utf8 ./Adverb.csv \n",
            "mv ./Postp-col.csv.utf8 ./Postp-col.csv \n",
            "mv ./Noun.others.csv.utf8 ./Noun.others.csv \n",
            "mv ./Noun.place.csv.utf8 ./Noun.place.csv \n",
            "mv ./Filler.csv.utf8 ./Filler.csv \n",
            "mv ./Noun.adjv.csv.utf8 ./Noun.adjv.csv \n",
            "mv ./Noun.verbal.csv.utf8 ./Noun.verbal.csv \n",
            "mv ./Adj.csv.utf8 ./Adj.csv \n"
          ],
          "name": "stderr"
        }
      ]
    },
    {
      "cell_type": "markdown",
      "metadata": {
        "id": "mV95owkItkyH",
        "colab_type": "text"
      },
      "source": [
        "## Word2vec学習済みモデルのダウンロード\n",
        "Word2vec[2] <br>\n",
        "[日本語 Wikipedia エンティティベクトル](http://www.cl.ecei.tohoku.ac.jp/~m-suzuki/jawiki_vector/)\\[3]<br>\n",
        "「日本語 Wikipedia エンティティベクトル」は、日本語版 Wikipedia の本文全文から学習した、単語、および Wikipedia で記事となっているエンティティの分散表現ベクトルです。Wikipedia の記事本文の抽出には WikiExtractor を、単語分割には MeCab を、単語ベクトルの学習には word2vec をそれぞれ用いています。\\[3]"
      ]
    },
    {
      "cell_type": "code",
      "metadata": {
        "id": "kMgA-_oqpHUd",
        "colab_type": "code",
        "outputId": "6d3e1661-d1b0-485e-e095-967854a56874",
        "colab": {
          "base_uri": "https://localhost:8080/",
          "height": 90
        }
      },
      "source": [
        "!curl -L -O https://github.com/singletongue/WikiEntVec/releases/download/20190520/jawiki.all_vectors.100d.txt.bz2 && bunzip2 jawiki.all_vectors.100d.txt.bz2"
      ],
      "execution_count": 3,
      "outputs": [
        {
          "output_type": "stream",
          "text": [
            "  % Total    % Received % Xferd  Average Speed   Time    Time     Time  Current\n",
            "                                 Dload  Upload   Total   Spent    Left  Speed\n",
            "100   622    0   622    0     0   4411      0 --:--:-- --:--:-- --:--:--  4411\n",
            "100  598M  100  598M    0     0  55.4M      0  0:00:10  0:00:10 --:--:-- 51.1M\n"
          ],
          "name": "stdout"
        }
      ]
    },
    {
      "cell_type": "markdown",
      "metadata": {
        "id": "l1tK6Z09xUeu",
        "colab_type": "text"
      },
      "source": [
        "## matplotlibでグラフを作成する際に，日本語で文字化けが起らないようにする\n",
        "import japanize-matplotlibするだけで日本語表示ができるようになる"
      ]
    },
    {
      "cell_type": "code",
      "metadata": {
        "id": "16J9Rb7OxaL0",
        "colab_type": "code",
        "outputId": "0d88d355-18bd-42a7-ede7-26c8b32f01e5",
        "colab": {
          "base_uri": "https://localhost:8080/",
          "height": 221
        }
      },
      "source": [
        "!pip install japanize-matplotlib"
      ],
      "execution_count": 4,
      "outputs": [
        {
          "output_type": "stream",
          "text": [
            "Collecting japanize-matplotlib\n",
            "\u001b[?25l  Downloading https://files.pythonhosted.org/packages/aa/c0/b75d434be51a8cc11d2e9b36f2d7f93a1bcf63bde24dc79a61d329d60b2a/japanize-matplotlib-1.0.5.tar.gz (4.1MB)\n",
            "\u001b[K     |████████████████████████████████| 4.1MB 2.9MB/s \n",
            "\u001b[?25hBuilding wheels for collected packages: japanize-matplotlib\n",
            "  Building wheel for japanize-matplotlib (setup.py) ... \u001b[?25l\u001b[?25hdone\n",
            "  Created wheel for japanize-matplotlib: filename=japanize_matplotlib-1.0.5-cp36-none-any.whl size=4118721 sha256=e8575a97d720e531238033c2f6ea1ab7225e2d4833c8b7a50c9a2dd7fcde2128\n",
            "  Stored in directory: /root/.cache/pip/wheels/6c/8a/08/4a784957da9f3c2b4839b4986be2fba2a481877318948be52c\n",
            "Successfully built japanize-matplotlib\n",
            "Installing collected packages: japanize-matplotlib\n",
            "Successfully installed japanize-matplotlib-1.0.5\n"
          ],
          "name": "stdout"
        }
      ]
    },
    {
      "cell_type": "markdown",
      "metadata": {
        "id": "D8PKi5tDyXr_",
        "colab_type": "text"
      },
      "source": [
        "#環境構築終わり\n",
        "以下python"
      ]
    },
    {
      "cell_type": "code",
      "metadata": {
        "id": "8dxZPhm1vXGD",
        "colab_type": "code",
        "colab": {}
      },
      "source": [
        "from sklearn.decomposition import PCA\n",
        "import matplotlib.pyplot as plt\n",
        "import pandas as pd\n",
        "import numpy as np\n",
        "import japanize_matplotlib\n",
        "import gensim"
      ],
      "execution_count": 0,
      "outputs": []
    },
    {
      "cell_type": "code",
      "metadata": {
        "id": "MGcE7ZhLvmPS",
        "colab_type": "code",
        "outputId": "33be8149-6922-4378-9c2b-471533e5fd07",
        "colab": {
          "base_uri": "https://localhost:8080/",
          "height": 74
        }
      },
      "source": [
        "#Word2vecのモデルの読み込み\n",
        "model = gensim.models.KeyedVectors.load_word2vec_format(\"jawiki.all_vectors.100d.txt\")"
      ],
      "execution_count": 6,
      "outputs": [
        {
          "output_type": "stream",
          "text": [
            "/usr/local/lib/python3.6/dist-packages/smart_open/smart_open_lib.py:402: UserWarning: This function is deprecated, use smart_open.open instead. See the migration notes for details: https://github.com/RaRe-Technologies/smart_open/blob/master/README.rst#migrating-to-the-new-open-function\n",
            "  'See the migration notes for details: %s' % _MIGRATION_NOTES_URL\n"
          ],
          "name": "stderr"
        }
      ]
    },
    {
      "cell_type": "code",
      "metadata": {
        "id": "8eyDGsn33uZU",
        "colab_type": "code",
        "outputId": "58df0710-1c9a-45f4-82c2-dc49c0a9df21",
        "colab": {
          "base_uri": "https://localhost:8080/",
          "height": 476
        }
      },
      "source": [
        "#単語からベクトルの取り出し\n",
        "print(model[\"日本\"])"
      ],
      "execution_count": 7,
      "outputs": [
        {
          "output_type": "stream",
          "text": [
            "[ 5.30889511e-01 -2.57213235e-01 -1.59220584e-02 -4.43872392e-01\n",
            "  2.71221787e-01 -1.47873849e-01 -1.60650671e-01  3.76813039e-02\n",
            "  2.01499194e-01 -2.68208683e-02  2.56034791e-01 -3.11926872e-01\n",
            "  9.89468396e-02  6.42983854e-01 -1.48453295e-01  2.68574059e-01\n",
            " -3.14776182e-01  1.63276732e-01 -4.87488359e-02 -2.80927867e-01\n",
            "  1.43521684e-04  7.68588781e-02 -5.53616993e-02 -2.08212003e-01\n",
            "  2.86783755e-01  3.41469854e-01 -1.54067263e-01 -2.12375090e-01\n",
            " -5.23720384e-01  1.69052696e-03  2.17034683e-01 -4.36213195e-01\n",
            "  5.40924780e-02 -6.58204496e-01 -9.03449208e-02 -4.66142148e-01\n",
            " -2.65461095e-02  1.01459041e-01 -1.25326768e-01 -3.69417846e-01\n",
            " -3.86606038e-01  2.01364979e-01 -2.10095160e-02  1.05791129e-01\n",
            "  8.69495720e-02 -1.50322765e-01  3.10459822e-01 -2.49653801e-01\n",
            "  2.40822718e-01 -8.23203623e-02 -1.70377642e-01  2.89304972e-01\n",
            " -1.04047254e-01 -5.41331209e-02 -2.01893136e-01 -3.96439135e-02\n",
            "  3.69843423e-01 -1.44937128e-01 -4.12835479e-01 -5.29332459e-02\n",
            " -1.45312948e-02  1.45022005e-01  1.31058767e-01  1.59987479e-01\n",
            " -2.45059416e-01 -8.04388747e-02 -1.00018397e-01 -1.46638885e-01\n",
            " -1.24125518e-01  6.06872261e-01 -5.62687755e-01  6.84210937e-03\n",
            "  1.42622776e-02  1.70042425e-01  1.98181182e-01 -4.87548150e-02\n",
            "  2.53797293e-01  2.07580626e-01 -1.08488694e-01 -2.57382870e-01\n",
            "  3.21124583e-01 -1.39821574e-01  8.27694759e-02 -1.56572059e-01\n",
            "  1.11832142e-01 -8.96615759e-02 -8.20550248e-02 -1.40926033e-01\n",
            " -4.43353176e-01  4.31838304e-01 -9.22169313e-02  2.76051491e-01\n",
            " -3.62567812e-01  6.56896096e-04 -4.36576009e-01  6.74369410e-02\n",
            "  2.19217613e-01 -2.07708552e-01  1.64746955e-01 -9.52254757e-02]\n"
          ],
          "name": "stdout"
        }
      ]
    },
    {
      "cell_type": "code",
      "metadata": {
        "id": "js3KZSPTyuEf",
        "colab_type": "code",
        "colab": {}
      },
      "source": [
        "words = [\"キャッシュレス\", \"Suica\", \"クレジットカード\", \"自動車\", \"バドミントン\", \"数学\", \"神経\", \"電車\"]\n",
        "vectors = [model[word] for word in words]"
      ],
      "execution_count": 0,
      "outputs": []
    },
    {
      "cell_type": "code",
      "metadata": {
        "id": "kbK3dLyr4VFA",
        "colab_type": "code",
        "colab": {}
      },
      "source": [
        "#PCA\n",
        "pca = PCA(2)\n",
        "pca.fit(vectors)\n",
        "vec_pca = pca.transform(vectors)"
      ],
      "execution_count": 0,
      "outputs": []
    },
    {
      "cell_type": "code",
      "metadata": {
        "id": "cz0IwP7a4kqk",
        "colab_type": "code",
        "outputId": "a0274814-f851-4090-ef1f-cf7cee17c7e6",
        "colab": {
          "base_uri": "https://localhost:8080/",
          "height": 361
        }
      },
      "source": [
        "plt.figure(dpi=100)\n",
        "plt.scatter(vec_pca[:,0],vec_pca[:,1])\n",
        "for word,vec in zip(words,vec_pca):\n",
        "  plt.annotate(word,(vec[0],vec[1]))\n",
        "plt.show()"
      ],
      "execution_count": 10,
      "outputs": [
        {
          "output_type": "display_data",
          "data": {
            "image/png": "[encoded data removed]",
            "text/plain": [
              "<Figure size 600x400 with 1 Axes>"
            ]
          },
          "metadata": {
            "tags": []
          }
        }
      ]
    },
    {
      "cell_type": "markdown",
      "metadata": {
        "id": "YWGbryZEzgwj",
        "colab_type": "text"
      },
      "source": [
        "#おまけ：PythonからNEologd辞書を使用したMeCabの分かち書き"
      ]
    },
    {
      "cell_type": "code",
      "metadata": {
        "id": "39SsX5a6xLj8",
        "colab_type": "code",
        "colab": {}
      },
      "source": [
        "import MeCab"
      ],
      "execution_count": 0,
      "outputs": []
    },
    {
      "cell_type": "code",
      "metadata": {
        "id": "_1FzE6SlzygI",
        "colab_type": "code",
        "outputId": "2820649d-2703-44f6-ce01-20989672fd69",
        "colab": {
          "base_uri": "https://localhost:8080/",
          "height": 495
        }
      },
      "source": [
        "sentence = \"あめんぼあかいなあいうえお\"\n",
        "\n",
        "#引数はシステム辞書にNEologd辞書を使用してねということ\n",
        "m = MeCab.Tagger(\"-d /usr/lib/x86_64-linux-gnu/mecab/dic/mecab-ipadic-neologd\")\n",
        "\n",
        "print(\"これはそのまま出力\\n-----\")\n",
        "print(m.parse(sentence))\n",
        "\n",
        "print(\"\\n1行毎に分ける\\n-----\")\n",
        "for word in m.parse(sentence).splitlines():\n",
        "  if word != \"EOS\":\n",
        "    print(word)\n",
        "  \n",
        "print(\"\\n色々取り出す\\n-----\")\n",
        "for word in m.parse(sentence).splitlines():\n",
        "  if word != \"EOS\":\n",
        "    print(\"単語: {}\".format(word.split(\"\\t\")[0]))\n",
        "    print(\"品詞: {}\".format(word.split(\"\\t\")[1].split(\",\")[0]))"
      ],
      "execution_count": 12,
      "outputs": [
        {
          "output_type": "stream",
          "text": [
            "これはそのまま出力\n",
            "-----\n",
            "あめんぼ\t名詞,一般,*,*,*,*,あめんぼ,アメンボ,アメンボ\n",
            "あかい\t形容詞,自立,*,*,形容詞・アウオ段,基本形,あかい,アカイ,アカイ\n",
            "な\t助詞,終助詞,*,*,*,*,な,ナ,ナ\n",
            "あいうえお\t名詞,固有名詞,人名,一般,*,*,あいうえお,アイウエオ,アイウエオ\n",
            "EOS\n",
            "\n",
            "\n",
            "1行毎に分ける\n",
            "-----\n",
            "あめんぼ\t名詞,一般,*,*,*,*,あめんぼ,アメンボ,アメンボ\n",
            "あかい\t形容詞,自立,*,*,形容詞・アウオ段,基本形,あかい,アカイ,アカイ\n",
            "な\t助詞,終助詞,*,*,*,*,な,ナ,ナ\n",
            "あいうえお\t名詞,固有名詞,人名,一般,*,*,あいうえお,アイウエオ,アイウエオ\n",
            "\n",
            "色々取り出す\n",
            "-----\n",
            "単語: あめんぼ\n",
            "品詞: 名詞\n",
            "単語: あかい\n",
            "品詞: 形容詞\n",
            "単語: な\n",
            "品詞: 助詞\n",
            "単語: あいうえお\n",
            "品詞: 名詞\n"
          ],
          "name": "stdout"
        }
      ]
    },
    {
      "cell_type": "markdown",
      "metadata": {
        "id": "JV62v06u3iiT",
        "colab_type": "text"
      },
      "source": [
        "## 参考文献\n",
        "- \\[1] [Taku Kudo, Kaoru Yamamoto and Yuji Matsumoto. Applying Conditional Random Fields to Japanese Morphological Analysis, *Proc. 2004 Conference on Empirical Methods in Natural Language Processing (EMNLP-2004)*, pp.230-237. (2004)](https://www.aclweb.org/anthology/W04-3230.pdf)\n",
        "- \\[2] [Tomas Mikolov, Kai Chen, Greg Corrado and Jeffrey Dean. Efficient Estimation of Word Representations in Vector Space, International Conference on Learning Representations. (2013)](https://arxiv.org/abs/1301.3781)\n",
        "- \\[3] [鈴木 正敏, 松田 耕史, 関根 聡, 岡崎 直観, 乾 健太郎. Wikipedia記事に対する拡張固有表現ラベルの多重付与, 言語処理学会第22回年次大会, pp.A5-2. (2016)](https://www.anlp.jp/proceedings/annual_meeting/2016/pdf_dir/A5-2.pdf)"
      ]
    }
  ]
}